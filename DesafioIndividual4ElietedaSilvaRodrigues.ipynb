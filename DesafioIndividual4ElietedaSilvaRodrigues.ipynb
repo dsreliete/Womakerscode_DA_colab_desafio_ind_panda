{
  "nbformat": 4,
  "nbformat_minor": 0,
  "metadata": {
    "colab": {
      "provenance": [],
      "authorship_tag": "ABX9TyNHdSsowbmCliWjfMUxMqb7",
      "include_colab_link": true
    },
    "kernelspec": {
      "name": "python3",
      "display_name": "Python 3"
    },
    "language_info": {
      "name": "python"
    }
  },
  "cells": [
    {
      "cell_type": "markdown",
      "metadata": {
        "id": "view-in-github",
        "colab_type": "text"
      },
      "source": [
        "<a href=\"https://colab.research.google.com/github/dsreliete/Womakerscode_DA_colab_desafio_individual/blob/main/DesafioIndividual4ElietedaSilvaRodrigues.ipynb\" target=\"_parent\"><img src=\"https://colab.research.google.com/assets/colab-badge.svg\" alt=\"Open In Colab\"/></a>"
      ]
    },
    {
      "cell_type": "code",
      "execution_count": 153,
      "metadata": {
        "id": "Efdl9Fr9frp0"
      },
      "outputs": [],
      "source": [
        "import matplotlib.pyplot as plt\n",
        "import scipy.stats as stats\n",
        "import pandas as pd\n",
        "import numpy as np"
      ]
    },
    {
      "cell_type": "code",
      "source": [
        "url = \"https://raw.githubusercontent.com/dsreliete/Womakerscode_DA_colab_desafio_individual/main/populacao_brasileira.csv\"\n",
        "df = pd.read_csv(url, index_col=0)"
      ],
      "metadata": {
        "id": "pgVVTYS9f67S"
      },
      "execution_count": 154,
      "outputs": []
    },
    {
      "cell_type": "code",
      "source": [
        "df.head()"
      ],
      "metadata": {
        "id": "BfYJKSdYhhvk",
        "outputId": "6485fb4c-ab3f-4176-84e7-ea844c7b46ee",
        "colab": {
          "base_uri": "https://localhost:8080/",
          "height": 206
        }
      },
      "execution_count": 155,
      "outputs": [
        {
          "output_type": "execute_result",
          "data": {
            "text/plain": [
              "  estado  idade escolaridade nível de proficiência em inglês    renda sexo\n",
              "0     MA     56  Fundamental                   Intermediário  4006.29    F\n",
              "1     BA     46     Superior                          Básico  2423.11    M\n",
              "2     AM     32  Fundamental                   Intermediário  3835.69    M\n",
              "3     CE     60     Superior                          Básico  1870.29    M\n",
              "4     SE     25  Fundamental                        Avançado  3529.80    M"
            ],
            "text/html": [
              "\n",
              "  <div id=\"df-7a4728f7-7330-474f-879b-0acbecf31166\" class=\"colab-df-container\">\n",
              "    <div>\n",
              "<style scoped>\n",
              "    .dataframe tbody tr th:only-of-type {\n",
              "        vertical-align: middle;\n",
              "    }\n",
              "\n",
              "    .dataframe tbody tr th {\n",
              "        vertical-align: top;\n",
              "    }\n",
              "\n",
              "    .dataframe thead th {\n",
              "        text-align: right;\n",
              "    }\n",
              "</style>\n",
              "<table border=\"1\" class=\"dataframe\">\n",
              "  <thead>\n",
              "    <tr style=\"text-align: right;\">\n",
              "      <th></th>\n",
              "      <th>estado</th>\n",
              "      <th>idade</th>\n",
              "      <th>escolaridade</th>\n",
              "      <th>nível de proficiência em inglês</th>\n",
              "      <th>renda</th>\n",
              "      <th>sexo</th>\n",
              "    </tr>\n",
              "  </thead>\n",
              "  <tbody>\n",
              "    <tr>\n",
              "      <th>0</th>\n",
              "      <td>MA</td>\n",
              "      <td>56</td>\n",
              "      <td>Fundamental</td>\n",
              "      <td>Intermediário</td>\n",
              "      <td>4006.29</td>\n",
              "      <td>F</td>\n",
              "    </tr>\n",
              "    <tr>\n",
              "      <th>1</th>\n",
              "      <td>BA</td>\n",
              "      <td>46</td>\n",
              "      <td>Superior</td>\n",
              "      <td>Básico</td>\n",
              "      <td>2423.11</td>\n",
              "      <td>M</td>\n",
              "    </tr>\n",
              "    <tr>\n",
              "      <th>2</th>\n",
              "      <td>AM</td>\n",
              "      <td>32</td>\n",
              "      <td>Fundamental</td>\n",
              "      <td>Intermediário</td>\n",
              "      <td>3835.69</td>\n",
              "      <td>M</td>\n",
              "    </tr>\n",
              "    <tr>\n",
              "      <th>3</th>\n",
              "      <td>CE</td>\n",
              "      <td>60</td>\n",
              "      <td>Superior</td>\n",
              "      <td>Básico</td>\n",
              "      <td>1870.29</td>\n",
              "      <td>M</td>\n",
              "    </tr>\n",
              "    <tr>\n",
              "      <th>4</th>\n",
              "      <td>SE</td>\n",
              "      <td>25</td>\n",
              "      <td>Fundamental</td>\n",
              "      <td>Avançado</td>\n",
              "      <td>3529.80</td>\n",
              "      <td>M</td>\n",
              "    </tr>\n",
              "  </tbody>\n",
              "</table>\n",
              "</div>\n",
              "    <div class=\"colab-df-buttons\">\n",
              "\n",
              "  <div class=\"colab-df-container\">\n",
              "    <button class=\"colab-df-convert\" onclick=\"convertToInteractive('df-7a4728f7-7330-474f-879b-0acbecf31166')\"\n",
              "            title=\"Convert this dataframe to an interactive table.\"\n",
              "            style=\"display:none;\">\n",
              "\n",
              "  <svg xmlns=\"http://www.w3.org/2000/svg\" height=\"24px\" viewBox=\"0 -960 960 960\">\n",
              "    <path d=\"M120-120v-720h720v720H120Zm60-500h600v-160H180v160Zm220 220h160v-160H400v160Zm0 220h160v-160H400v160ZM180-400h160v-160H180v160Zm440 0h160v-160H620v160ZM180-180h160v-160H180v160Zm440 0h160v-160H620v160Z\"/>\n",
              "  </svg>\n",
              "    </button>\n",
              "\n",
              "  <style>\n",
              "    .colab-df-container {\n",
              "      display:flex;\n",
              "      gap: 12px;\n",
              "    }\n",
              "\n",
              "    .colab-df-convert {\n",
              "      background-color: #E8F0FE;\n",
              "      border: none;\n",
              "      border-radius: 50%;\n",
              "      cursor: pointer;\n",
              "      display: none;\n",
              "      fill: #1967D2;\n",
              "      height: 32px;\n",
              "      padding: 0 0 0 0;\n",
              "      width: 32px;\n",
              "    }\n",
              "\n",
              "    .colab-df-convert:hover {\n",
              "      background-color: #E2EBFA;\n",
              "      box-shadow: 0px 1px 2px rgba(60, 64, 67, 0.3), 0px 1px 3px 1px rgba(60, 64, 67, 0.15);\n",
              "      fill: #174EA6;\n",
              "    }\n",
              "\n",
              "    .colab-df-buttons div {\n",
              "      margin-bottom: 4px;\n",
              "    }\n",
              "\n",
              "    [theme=dark] .colab-df-convert {\n",
              "      background-color: #3B4455;\n",
              "      fill: #D2E3FC;\n",
              "    }\n",
              "\n",
              "    [theme=dark] .colab-df-convert:hover {\n",
              "      background-color: #434B5C;\n",
              "      box-shadow: 0px 1px 3px 1px rgba(0, 0, 0, 0.15);\n",
              "      filter: drop-shadow(0px 1px 2px rgba(0, 0, 0, 0.3));\n",
              "      fill: #FFFFFF;\n",
              "    }\n",
              "  </style>\n",
              "\n",
              "    <script>\n",
              "      const buttonEl =\n",
              "        document.querySelector('#df-7a4728f7-7330-474f-879b-0acbecf31166 button.colab-df-convert');\n",
              "      buttonEl.style.display =\n",
              "        google.colab.kernel.accessAllowed ? 'block' : 'none';\n",
              "\n",
              "      async function convertToInteractive(key) {\n",
              "        const element = document.querySelector('#df-7a4728f7-7330-474f-879b-0acbecf31166');\n",
              "        const dataTable =\n",
              "          await google.colab.kernel.invokeFunction('convertToInteractive',\n",
              "                                                    [key], {});\n",
              "        if (!dataTable) return;\n",
              "\n",
              "        const docLinkHtml = 'Like what you see? Visit the ' +\n",
              "          '<a target=\"_blank\" href=https://colab.research.google.com/notebooks/data_table.ipynb>data table notebook</a>'\n",
              "          + ' to learn more about interactive tables.';\n",
              "        element.innerHTML = '';\n",
              "        dataTable['output_type'] = 'display_data';\n",
              "        await google.colab.output.renderOutput(dataTable, element);\n",
              "        const docLink = document.createElement('div');\n",
              "        docLink.innerHTML = docLinkHtml;\n",
              "        element.appendChild(docLink);\n",
              "      }\n",
              "    </script>\n",
              "  </div>\n",
              "\n",
              "\n",
              "<div id=\"df-b41aced4-92aa-4371-beeb-9192cc7be200\">\n",
              "  <button class=\"colab-df-quickchart\" onclick=\"quickchart('df-b41aced4-92aa-4371-beeb-9192cc7be200')\"\n",
              "            title=\"Suggest charts\"\n",
              "            style=\"display:none;\">\n",
              "\n",
              "<svg xmlns=\"http://www.w3.org/2000/svg\" height=\"24px\"viewBox=\"0 0 24 24\"\n",
              "     width=\"24px\">\n",
              "    <g>\n",
              "        <path d=\"M19 3H5c-1.1 0-2 .9-2 2v14c0 1.1.9 2 2 2h14c1.1 0 2-.9 2-2V5c0-1.1-.9-2-2-2zM9 17H7v-7h2v7zm4 0h-2V7h2v10zm4 0h-2v-4h2v4z\"/>\n",
              "    </g>\n",
              "</svg>\n",
              "  </button>\n",
              "\n",
              "<style>\n",
              "  .colab-df-quickchart {\n",
              "      --bg-color: #E8F0FE;\n",
              "      --fill-color: #1967D2;\n",
              "      --hover-bg-color: #E2EBFA;\n",
              "      --hover-fill-color: #174EA6;\n",
              "      --disabled-fill-color: #AAA;\n",
              "      --disabled-bg-color: #DDD;\n",
              "  }\n",
              "\n",
              "  [theme=dark] .colab-df-quickchart {\n",
              "      --bg-color: #3B4455;\n",
              "      --fill-color: #D2E3FC;\n",
              "      --hover-bg-color: #434B5C;\n",
              "      --hover-fill-color: #FFFFFF;\n",
              "      --disabled-bg-color: #3B4455;\n",
              "      --disabled-fill-color: #666;\n",
              "  }\n",
              "\n",
              "  .colab-df-quickchart {\n",
              "    background-color: var(--bg-color);\n",
              "    border: none;\n",
              "    border-radius: 50%;\n",
              "    cursor: pointer;\n",
              "    display: none;\n",
              "    fill: var(--fill-color);\n",
              "    height: 32px;\n",
              "    padding: 0;\n",
              "    width: 32px;\n",
              "  }\n",
              "\n",
              "  .colab-df-quickchart:hover {\n",
              "    background-color: var(--hover-bg-color);\n",
              "    box-shadow: 0 1px 2px rgba(60, 64, 67, 0.3), 0 1px 3px 1px rgba(60, 64, 67, 0.15);\n",
              "    fill: var(--button-hover-fill-color);\n",
              "  }\n",
              "\n",
              "  .colab-df-quickchart-complete:disabled,\n",
              "  .colab-df-quickchart-complete:disabled:hover {\n",
              "    background-color: var(--disabled-bg-color);\n",
              "    fill: var(--disabled-fill-color);\n",
              "    box-shadow: none;\n",
              "  }\n",
              "\n",
              "  .colab-df-spinner {\n",
              "    border: 2px solid var(--fill-color);\n",
              "    border-color: transparent;\n",
              "    border-bottom-color: var(--fill-color);\n",
              "    animation:\n",
              "      spin 1s steps(1) infinite;\n",
              "  }\n",
              "\n",
              "  @keyframes spin {\n",
              "    0% {\n",
              "      border-color: transparent;\n",
              "      border-bottom-color: var(--fill-color);\n",
              "      border-left-color: var(--fill-color);\n",
              "    }\n",
              "    20% {\n",
              "      border-color: transparent;\n",
              "      border-left-color: var(--fill-color);\n",
              "      border-top-color: var(--fill-color);\n",
              "    }\n",
              "    30% {\n",
              "      border-color: transparent;\n",
              "      border-left-color: var(--fill-color);\n",
              "      border-top-color: var(--fill-color);\n",
              "      border-right-color: var(--fill-color);\n",
              "    }\n",
              "    40% {\n",
              "      border-color: transparent;\n",
              "      border-right-color: var(--fill-color);\n",
              "      border-top-color: var(--fill-color);\n",
              "    }\n",
              "    60% {\n",
              "      border-color: transparent;\n",
              "      border-right-color: var(--fill-color);\n",
              "    }\n",
              "    80% {\n",
              "      border-color: transparent;\n",
              "      border-right-color: var(--fill-color);\n",
              "      border-bottom-color: var(--fill-color);\n",
              "    }\n",
              "    90% {\n",
              "      border-color: transparent;\n",
              "      border-bottom-color: var(--fill-color);\n",
              "    }\n",
              "  }\n",
              "</style>\n",
              "\n",
              "  <script>\n",
              "    async function quickchart(key) {\n",
              "      const quickchartButtonEl =\n",
              "        document.querySelector('#' + key + ' button');\n",
              "      quickchartButtonEl.disabled = true;  // To prevent multiple clicks.\n",
              "      quickchartButtonEl.classList.add('colab-df-spinner');\n",
              "      try {\n",
              "        const charts = await google.colab.kernel.invokeFunction(\n",
              "            'suggestCharts', [key], {});\n",
              "      } catch (error) {\n",
              "        console.error('Error during call to suggestCharts:', error);\n",
              "      }\n",
              "      quickchartButtonEl.classList.remove('colab-df-spinner');\n",
              "      quickchartButtonEl.classList.add('colab-df-quickchart-complete');\n",
              "    }\n",
              "    (() => {\n",
              "      let quickchartButtonEl =\n",
              "        document.querySelector('#df-b41aced4-92aa-4371-beeb-9192cc7be200 button');\n",
              "      quickchartButtonEl.style.display =\n",
              "        google.colab.kernel.accessAllowed ? 'block' : 'none';\n",
              "    })();\n",
              "  </script>\n",
              "</div>\n",
              "\n",
              "    </div>\n",
              "  </div>\n"
            ],
            "application/vnd.google.colaboratory.intrinsic+json": {
              "type": "dataframe",
              "variable_name": "df",
              "summary": "{\n  \"name\": \"df\",\n  \"rows\": 1000,\n  \"fields\": [\n    {\n      \"column\": \"estado\",\n      \"properties\": {\n        \"dtype\": \"category\",\n        \"num_unique_values\": 27,\n        \"samples\": [\n          \"AC\",\n          \"PA\",\n          \"SC\"\n        ],\n        \"semantic_type\": \"\",\n        \"description\": \"\"\n      }\n    },\n    {\n      \"column\": \"idade\",\n      \"properties\": {\n        \"dtype\": \"number\",\n        \"std\": 13,\n        \"min\": 18,\n        \"max\": 64,\n        \"num_unique_values\": 47,\n        \"samples\": [\n          24,\n          48,\n          54\n        ],\n        \"semantic_type\": \"\",\n        \"description\": \"\"\n      }\n    },\n    {\n      \"column\": \"escolaridade\",\n      \"properties\": {\n        \"dtype\": \"category\",\n        \"num_unique_values\": 4,\n        \"samples\": [\n          \"Superior\",\n          \"P\\u00f3s-gradua\\u00e7\\u00e3o\",\n          \"Fundamental\"\n        ],\n        \"semantic_type\": \"\",\n        \"description\": \"\"\n      }\n    },\n    {\n      \"column\": \"n\\u00edvel de profici\\u00eancia em ingl\\u00eas\",\n      \"properties\": {\n        \"dtype\": \"category\",\n        \"num_unique_values\": 3,\n        \"samples\": [\n          \"Intermedi\\u00e1rio\",\n          \"B\\u00e1sico\",\n          \"Avan\\u00e7ado\"\n        ],\n        \"semantic_type\": \"\",\n        \"description\": \"\"\n      }\n    },\n    {\n      \"column\": \"renda\",\n      \"properties\": {\n        \"dtype\": \"number\",\n        \"std\": 996.572239312141,\n        \"min\": 103.74,\n        \"max\": 5632.38,\n        \"num_unique_values\": 998,\n        \"samples\": [\n          2752.82,\n          4218.76,\n          2244.62\n        ],\n        \"semantic_type\": \"\",\n        \"description\": \"\"\n      }\n    },\n    {\n      \"column\": \"sexo\",\n      \"properties\": {\n        \"dtype\": \"category\",\n        \"num_unique_values\": 2,\n        \"samples\": [\n          \"M\",\n          \"F\"\n        ],\n        \"semantic_type\": \"\",\n        \"description\": \"\"\n      }\n    }\n  ]\n}"
            }
          },
          "metadata": {},
          "execution_count": 155
        }
      ]
    },
    {
      "cell_type": "code",
      "source": [
        "# 1. Considere pessoas fluentes em inglês, qual a probabilidade complementar? Ou seja, qual a probabilidade de escolhermos uma pessoa aleatória e ela não ser fluente em inglês. Considere fluente quem tem o nível avançado.\n",
        "\n",
        "# Contar o total de pessoas no dataset\n",
        "total_pessoas = len(df)\n",
        "total_avancado = len(df[df['nível de proficiência em inglês'] == 'Avançado'])\n",
        "prob_fluente = total_avancado / total_pessoas\n",
        "prob_nao_fluente = (1 - prob_fluente) * 100\n",
        "print(f'Probabilidade de não ser fluente em inglês é de {prob_nao_fluente:.2f}%')"
      ],
      "metadata": {
        "id": "MqPBVlggh0Gk",
        "outputId": "de4c04b6-3d79-4517-b41c-902b3d3ffe45",
        "colab": {
          "base_uri": "https://localhost:8080/"
        }
      },
      "execution_count": 156,
      "outputs": [
        {
          "output_type": "stream",
          "name": "stdout",
          "text": [
            "Probabilidade de não ser fluente em inglês é de 65.60%\n"
          ]
        }
      ]
    },
    {
      "cell_type": "code",
      "source": [
        "# 2. Se uma pessoa escolhida aleatoriamente for de Alagoas ou do Pará, qual é a probabilidade de ela ter uma renda superior a 5 mil reais?\n",
        "\n",
        "pessoas_para_alagoas = df[(df['estado'] == 'PA') | (df['estado'] == 'AL')]\n",
        "pessoas_para_alagoas_5k = len(pessoas_para_alagoas[pessoas_para_alagoas['renda'] > 5000])\n",
        "probabilidade_pessoas_5k = pessoas_para_alagoas_5k / len(pessoas_para_alagoas)\n",
        "print(f'Probabilidade de uma pessoa do Pará ou Alagoas ter renda superior a 5 mil reais é de {probabilidade_pessoas_5k * 100:.2f}%')"
      ],
      "metadata": {
        "id": "eEjhM5TpiMNn",
        "outputId": "6333b45e-f573-4dac-90f9-8e288f15cc4c",
        "colab": {
          "base_uri": "https://localhost:8080/"
        }
      },
      "execution_count": 157,
      "outputs": [
        {
          "output_type": "stream",
          "name": "stdout",
          "text": [
            "Probabilidade de uma pessoa do Pará ou Alagoas ter renda superior a 5 mil reais é de 5.06%\n"
          ]
        }
      ]
    },
    {
      "cell_type": "code",
      "source": [
        "# 3. Descubra a probabilidade de uma pessoa ter ensino superior completo no estado do Amazonas. Qual a probabilidade da quinta pessoa que você conversar, que é amazonense, ter ensino superior completo?\n",
        "\n",
        "pessoas_amazonas = df[df['estado'] == 'AM']\n",
        "pessoas_amazonas_ensino_superior = pessoas_amazonas[(pessoas_amazonas['escolaridade'] == 'Superior') | (pessoas_amazonas['escolaridade'] == 'Pós-graduação')]\n",
        "probabilidade_superior_amazonas = len(pessoas_amazonas_ensino_superior) / len(pessoas_amazonas)\n",
        "print(f'Probabilidade de uma pessoa ser amazonense e ter ensino superior completo é de {probabilidade_superior_amazonas * 100:.2f}%')\n",
        "probabilidade_5_pessoas = stats.geom.pmf(k=5, p=probabilidade_superior_amazonas)\n",
        "print(f'Probabilidade da quinta pessoa ser amazonense e ter ensino superior completo é de {probabilidade_5_pessoas * 100:.2f}%')"
      ],
      "metadata": {
        "id": "p6ZXDmvoigUc",
        "outputId": "ef0d04e8-b237-4775-f1b3-355d1f76468a",
        "colab": {
          "base_uri": "https://localhost:8080/"
        }
      },
      "execution_count": 158,
      "outputs": [
        {
          "output_type": "stream",
          "name": "stdout",
          "text": [
            "Probabilidade de uma pessoa ser amazonense e ter ensino superior completo é de 55.26%\n",
            "Probabilidade da quinta pessoa ser amazonense e ter ensino superior completo é de 2.21%\n"
          ]
        }
      ]
    },
    {
      "cell_type": "code",
      "source": [
        "# 4. Considerando a renda das pessoas do nosso conjunto, podemos dizer que a renda de uma pessoa brasileira está na sua maioria em que faixa (faça faixa de 1.500 reais)? Qual é a sua função densidade de probabilidade?\n",
        "\n",
        "\n",
        "faixas_renda = np.arange(0, df['renda'].max() + 1500, 1500)\n",
        "contagem_por_faixa, _ = np.histogram(df['renda'], bins=faixas_renda)\n",
        "maioria_faixa = np.argmax(contagem_por_faixa) * 1500\n",
        "print('Faixa de renda predominante: ', maioria_faixa, ' - ', maioria_faixa + 1500)"
      ],
      "metadata": {
        "id": "bM72VHtviu_d",
        "outputId": "f3cc7736-dd01-465a-cc56-d7ec5aed782e",
        "colab": {
          "base_uri": "https://localhost:8080/"
        }
      },
      "execution_count": 159,
      "outputs": [
        {
          "output_type": "stream",
          "name": "stdout",
          "text": [
            "Faixa de renda predominante:  3000  -  4500\n"
          ]
        }
      ]
    },
    {
      "cell_type": "code",
      "source": [
        "plt.hist(df['renda'], bins=faixas_renda)\n",
        "plt.title('Função densidade de probabilidade')\n",
        "plt.xlabel('Renda')\n",
        "plt.ylabel('Densidade de probabilidade')\n",
        "plt.grid(True)\n",
        "plt.show()"
      ],
      "metadata": {
        "id": "kI5ZFW2NjBoq",
        "outputId": "e2e64f72-dfca-4231-9ef0-43254ebc2924",
        "colab": {
          "base_uri": "https://localhost:8080/",
          "height": 472
        }
      },
      "execution_count": 160,
      "outputs": [
        {
          "output_type": "display_data",
          "data": {
            "text/plain": [
              "<Figure size 640x480 with 1 Axes>"
            ],
            "image/png": "[encoded data removed]"
          },
          "metadata": {}
        }
      ]
    },
    {
      "cell_type": "code",
      "source": [
        "# 5. Calcule a média e a variância da renda da amostra. Depois faça a distribuição normal, inclua o gráfico.\n",
        "\n",
        "media = df['renda'].mean()\n",
        "variancia = df['renda'].var()\n",
        "print(f'Média da renda: {media}')\n",
        "print(f'Variância da renda: {variancia}')"
      ],
      "metadata": {
        "id": "UKUBO3dYjEuo",
        "outputId": "cec6bced-99c4-4708-c551-daf5ff4c01da",
        "colab": {
          "base_uri": "https://localhost:8080/"
        }
      },
      "execution_count": 161,
      "outputs": [
        {
          "output_type": "stream",
          "name": "stdout",
          "text": [
            "Média da renda: 3082.5371800000003\n",
            "Variância da renda: 993156.2281676152\n"
          ]
        }
      ]
    },
    {
      "cell_type": "code",
      "source": [
        "plt.hist(df['renda'], bins=6)\n",
        "plt.title('Distribuição Normal de Renda')\n",
        "plt.xlabel('Renda')\n",
        "plt.ylabel('Densidade de probabilidade')\n",
        "plt.grid(True)\n",
        "plt.show()"
      ],
      "metadata": {
        "id": "fEqM-zJIjPV8",
        "outputId": "805b60f6-6867-4f19-c24b-bd3cb43fcb8f",
        "colab": {
          "base_uri": "https://localhost:8080/",
          "height": 472
        }
      },
      "execution_count": 162,
      "outputs": [
        {
          "output_type": "display_data",
          "data": {
            "text/plain": [
              "<Figure size 640x480 with 1 Axes>"
            ],
            "image/png": "[encoded data removed]"
          },
          "metadata": {}
        }
      ]
    },
    {
      "cell_type": "code",
      "source": [
        "# 6. Primeiro considere a probabilidade encontrada no nosso conjunto de pessoas com escolaridade de pós-graduação. Considerando a amostra de população brasileira com 1 milhão de habitantes, qual a probabilidade de encontrarmos 243 mil pessoas com pós-graduação?\n",
        "\n",
        "p_pos_grad = len(df[df['escolaridade'] == 'Pós-graduação']) / len(df)\n",
        "n = 1000000\n",
        "k = 243000\n",
        "\n",
        "probabilidade_pos_grad = stats.binom.pmf(k, n, p_pos_grad)\n",
        "print(f'Probabilidade de 243 mil pessoas com pós-graduação dentro  da população de 1 milhão é de {probabilidade_pos_grad:}')"
      ],
      "metadata": {
        "id": "jn-ef8EXjUvY",
        "outputId": "6a829670-32fb-4b98-d103-dc1a3df0c109",
        "colab": {
          "base_uri": "https://localhost:8080/"
        }
      },
      "execution_count": 163,
      "outputs": [
        {
          "output_type": "stream",
          "name": "stdout",
          "text": [
            "Probabilidade de 243 mil pessoas com pós-graduação dentro  da população de 1 milhão é de 1.1104854289794913e-119\n"
          ]
        }
      ]
    },
    {
      "cell_type": "code",
      "source": [
        "# 7. Somando as densidades nós temos a função de densidade acumulada. Considerando a coluna ‘Escolaridade’ faça a função de densidade acumulada discreta para cada nível de escolaridade."
      ],
      "metadata": {
        "id": "jXMnaJGnjkGE"
      },
      "execution_count": 164,
      "outputs": []
    },
    {
      "cell_type": "code",
      "source": [
        "freq_escolaridade = df['escolaridade'].value_counts()\n",
        "freq_escolaridade = freq_escolaridade.reset_index()\n",
        "freq_escolaridade.columns = ['escolaridade', 'frequência']\n",
        "freq_escolaridade['probabilidade'] = freq_escolaridade['frequência'].apply(lambda x: x) / len(df)\n",
        "freq_escolaridade['CDF'] = freq_escolaridade['probabilidade'].cumsum()\n",
        "freq_escolaridade.sort_index(inplace=True)\n",
        "print(freq_escolaridade)\n"
      ],
      "metadata": {
        "id": "kNebSe9ukLym",
        "outputId": "49c8e3a5-03f2-41d7-ada2-fbc374805dc2",
        "colab": {
          "base_uri": "https://localhost:8080/"
        }
      },
      "execution_count": 165,
      "outputs": [
        {
          "output_type": "stream",
          "name": "stdout",
          "text": [
            "    escolaridade  frequência  probabilidade    CDF\n",
            "0    Fundamental         266          0.266  0.266\n",
            "1  Pós-graduação         253          0.253  0.519\n",
            "2       Superior         243          0.243  0.762\n",
            "3          Médio         238          0.238  1.000\n"
          ]
        }
      ]
    },
    {
      "cell_type": "code",
      "source": [
        "plt.figure(figsize=(10, 6))\n",
        "count, bins, _ = plt.hist(df['escolaridade'], bins=len(freq_escolaridade), density=True, cumulative=True, histtype='step', label='CDF')\n",
        "plt.plot(bins[:-1], freq_escolaridade['CDF'], color='red', linestyle='--', label='Função de Densidade Acumulada')\n",
        "plt.xlabel('Escolaridade')\n",
        "plt.ylabel('Probabilidade Acumulada')\n",
        "plt.title('Função de Densidade Acumulada')\n",
        "plt.legend()\n",
        "plt.grid(True)\n",
        "plt.show()"
      ],
      "metadata": {
        "id": "7bxNrElFqa7B",
        "outputId": "e6d345fc-62fb-49c5-e7b9-e27bf3cc9bae",
        "colab": {
          "base_uri": "https://localhost:8080/",
          "height": 565
        }
      },
      "execution_count": 166,
      "outputs": [
        {
          "output_type": "display_data",
          "data": {
            "text/plain": [
              "<Figure size 1000x600 with 1 Axes>"
            ],
            "image/png": "[encoded data removed]"
          },
          "metadata": {}
        }
      ]
    },
    {
      "cell_type": "code",
      "source": [
        "# 8. Qual a margem de erro amostral da proporção populacional considerando a proporção de pessoas com nível de inglês intermediário?"
      ],
      "metadata": {
        "id": "VB0bTJ8ejkQe"
      },
      "execution_count": 167,
      "outputs": []
    },
    {
      "cell_type": "code",
      "source": [
        "total_ingles_intermed = len(df[df['nível de proficiência em inglês'] == 'Intermediário'])\n",
        "p_ingles_intermed = total_ingles_intermed / len(df)\n",
        "z = 1.96\n",
        "\n",
        "erro_amostra = z * np.sqrt((p_ingles_intermed * (1 - p_ingles_intermed)) / len(df))\n",
        "print(f'A margem de erro amostral é de {erro_amostra * 100:.2f}%')"
      ],
      "metadata": {
        "id": "oFMDUGZekMVf",
        "outputId": "5eb771ed-d334-46b0-850c-f4449b4ed91c",
        "colab": {
          "base_uri": "https://localhost:8080/"
        }
      },
      "execution_count": 168,
      "outputs": [
        {
          "output_type": "stream",
          "name": "stdout",
          "text": [
            "A margem de erro amostral é de 2.91%\n"
          ]
        }
      ]
    },
    {
      "cell_type": "code",
      "source": [
        "# 9. Calcula a renda da população. Qual a probabilidade de encontrar 60 pessoas com uma renda mil reais superior à média?"
      ],
      "metadata": {
        "id": "zeMqpEpdjkYC"
      },
      "execution_count": 169,
      "outputs": []
    },
    {
      "cell_type": "code",
      "source": [
        "renda_media = df['renda'].mean().round(2)\n",
        "renda_media_1000 = renda_media + 1000\n",
        "\n",
        "p_media_superior = len(df[df['renda'] > renda_media_1000]) / len(df)\n",
        "probabilidade_60 = stats.binom.pmf(k=60, n=len(df), p=p_media_superior)\n",
        "print(f'Probabilidade de encontrarmos 60 pessoas com uma renda mil reais superior à média é de {probabilidade_60 * 100:}')"
      ],
      "metadata": {
        "id": "rJXYO0xSkM8U",
        "outputId": "96b73798-787e-4879-9705-aad4658d5562",
        "colab": {
          "base_uri": "https://localhost:8080/"
        }
      },
      "execution_count": 190,
      "outputs": [
        {
          "output_type": "stream",
          "name": "stdout",
          "text": [
            "Probabilidade de encontrarmos 60 pessoas com uma renda mil reais superior à média é de 1.0995205651637739e-20\n"
          ]
        }
      ]
    },
    {
      "cell_type": "code",
      "source": [
        "# 10. Qual a probabilidade de escolhermos alguém do Sudeste que seja homem, com ensino fundamental e com renda maior que 2 mil reais por mês?"
      ],
      "metadata": {
        "id": "3W55ggUcjk_o"
      },
      "execution_count": 170,
      "outputs": []
    },
    {
      "cell_type": "code",
      "source": [
        "df_filtrado = df[\n",
        "    (df['estado'].isin(['SP', 'RJ', 'MG', 'ES'])) &\n",
        "    (df['sexo'] == 'M') &\n",
        "    (df['escolaridade'] == 'Fundamental') &\n",
        "    (df['renda'] > 2000)\n",
        "]\n",
        "\n",
        "p_filtrado = len(df_filtrado) / len(df)\n",
        "print(f'Probabilidade de escolhermos alguém do Sudeste que seja homem, com ensino fundamental e com renda maior que 2 mil reais por mês é de {p_filtrado * 100:.2f}%')"
      ],
      "metadata": {
        "id": "TaOxUPXHkNdX",
        "outputId": "6e64af44-6820-41e5-c2e4-64354886c5a1",
        "colab": {
          "base_uri": "https://localhost:8080/"
        }
      },
      "execution_count": 171,
      "outputs": [
        {
          "output_type": "stream",
          "name": "stdout",
          "text": [
            "Probabilidade de escolhermos alguém do Sudeste que seja homem, com ensino fundamental e com renda maior que 2 mil reais por mês é de 1.90%\n"
          ]
        }
      ]
    },
    {
      "cell_type": "code",
      "source": [
        "p_sudeste = len(df[df['estado'].isin(['SP', 'RJ', 'MG', 'ES'])]) / len(df)\n",
        "p_homem = len(df[df['sexo'] == 'M']) / len(df)\n",
        "p_ensino_fundamental = len(df[df['escolaridade'] == 'Fundamental']) / len(df)\n",
        "p_renda_superior = len(df[df['renda'] > 2000]) / len(df)\n",
        "p_total = p_sudeste * p_homem * p_ensino_fundamental * p_renda_superior\n",
        "print(f'Probabilidade de escolhermos alguém do Sudeste que seja homem, com ensino fundamental e com renda maior que 2 mil reais por mês é de {p_total * 100:.2f}%')"
      ],
      "metadata": {
        "id": "c31rTKGn_kx6",
        "outputId": "afde875b-ff32-4b32-ee6b-6bbc61677f3a",
        "colab": {
          "base_uri": "https://localhost:8080/"
        }
      },
      "execution_count": 174,
      "outputs": [
        {
          "output_type": "stream",
          "name": "stdout",
          "text": [
            "Probabilidade de escolhermos alguém do Sudeste que seja homem, com ensino fundamental e com renda maior que 2 mil reais por mês é de 1.74%\n"
          ]
        }
      ]
    }
  ]
}