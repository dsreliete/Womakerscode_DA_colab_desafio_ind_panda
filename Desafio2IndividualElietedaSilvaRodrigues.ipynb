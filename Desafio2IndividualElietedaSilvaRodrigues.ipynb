{
  "nbformat": 4,
  "nbformat_minor": 0,
  "metadata": {
    "colab": {
      "provenance": [],
      "authorship_tag": "ABX9TyPZwdU6BDV2nj4uzyWyvnZk",
      "include_colab_link": true
    },
    "kernelspec": {
      "name": "python3",
      "display_name": "Python 3"
    },
    "language_info": {
      "name": "python"
    }
  },
  "cells": [
    {
      "cell_type": "markdown",
      "metadata": {
        "id": "view-in-github",
        "colab_type": "text"
      },
      "source": [
        "<a href=\"https://colab.research.google.com/github/dsreliete/Womakerscode_DA_colab_desafio_individual/blob/main/Desafio2IndividualElietedaSilvaRodrigues.ipynb\" target=\"_parent\"><img src=\"https://colab.research.google.com/assets/colab-badge.svg\" alt=\"Open In Colab\"/></a>"
      ]
    },
    {
      "cell_type": "code",
      "execution_count": 1,
      "metadata": {
        "id": "V6y9C7SUI-NW"
      },
      "outputs": [],
      "source": [
        "%load_ext sql"
      ]
    },
    {
      "cell_type": "code",
      "source": [
        "%%sql\n",
        "sqlite:///desafio.db"
      ],
      "metadata": {
        "id": "Es09aXuWJW9m"
      },
      "execution_count": 2,
      "outputs": []
    },
    {
      "cell_type": "code",
      "source": [
        "import sqlite3"
      ],
      "metadata": {
        "id": "A4L2ruq3Jyw4"
      },
      "execution_count": 3,
      "outputs": []
    },
    {
      "cell_type": "code",
      "source": [
        "conexao = sqlite3.connect('desafio.db')\n",
        "cursor = conexao.cursor()"
      ],
      "metadata": {
        "id": "K20inH_bKAz1"
      },
      "execution_count": 4,
      "outputs": []
    },
    {
      "cell_type": "code",
      "source": [
        "# 1. Crie uma tabela chamada \"alunos\" com os seguintes campos: id (inteiro), nome (texto), idade (inteiro) e curso (texto).\n",
        "\n",
        "cursor.execute('CREATE TABLE alunos(id INT, nome VARCHAR(100), idade INT, curso VARCHAR(200));')"
      ],
      "metadata": {
        "id": "j91xi-0OKMrm",
        "outputId": "4615d6e6-254b-4b50-ae7f-49b43353b812",
        "colab": {
          "base_uri": "https://localhost:8080/"
        }
      },
      "execution_count": 5,
      "outputs": [
        {
          "output_type": "execute_result",
          "data": {
            "text/plain": [
              "<sqlite3.Cursor at 0x7bda368554c0>"
            ]
          },
          "metadata": {},
          "execution_count": 5
        }
      ]
    },
    {
      "cell_type": "code",
      "source": [
        "# 2. Insira pelo menos 5 registros de alunos na tabela que você criou no exercício anterior.\n",
        "\n",
        "cursor.execute('INSERT INTO alunos(id, nome, idade, curso) VALUES(1, \"Eliete\", 39, \"Data Analytics\")')\n",
        "\n",
        "cursor.execute('INSERT INTO alunos(id, nome, idade, curso) VALUES(2, \"Sheldon\", 10, \"Adestramento\")')\n",
        "\n",
        "cursor.execute('INSERT INTO alunos(id, nome, idade, curso) VALUES(3, \"Felipe\", 24, \"Engenharia\")')\n",
        "\n",
        "cursor.execute('INSERT INTO alunos(id, nome, idade, curso) VALUES(4, \"Mariana\", 14, \"Jazz\")')\n",
        "\n",
        "cursor.execute('INSERT INTO alunos(id, nome, idade, curso) VALUES(5, \"Helena\", 69, \"Poesia\")')\n",
        "\n",
        "cursor.execute('INSERT INTO alunos(id, nome, idade, curso) VALUES(6, \"Evandro\", 38, \"Engenharia\")')\n",
        "\n",
        "cursor.execute('INSERT INTO alunos(id, nome, idade, curso) VALUES(7, \"Jurandir\", 45, \"Engenharia\")')"
      ],
      "metadata": {
        "id": "uZK_qwqoNEBp",
        "outputId": "7066d2d7-d323-4385-c2d1-7d98edac9c56",
        "colab": {
          "base_uri": "https://localhost:8080/"
        }
      },
      "execution_count": 6,
      "outputs": [
        {
          "output_type": "execute_result",
          "data": {
            "text/plain": [
              "<sqlite3.Cursor at 0x7bda368554c0>"
            ]
          },
          "metadata": {},
          "execution_count": 6
        }
      ]
    },
    {
      "cell_type": "code",
      "source": [
        "# 3. Consultas Básicas\n",
        "# Escreva consultas SQL para realizar as seguintes tarefas:\n",
        "# a) Selecionar todos os registros da tabela \"alunos\".\n",
        "\n",
        "cursor.execute('SELECT * FROM alunos;')\n",
        "print(cursor.fetchall())"
      ],
      "metadata": {
        "id": "7FzVxssQLNCr",
        "outputId": "c141339a-0bb7-4ef3-9493-925e7b7ab669",
        "colab": {
          "base_uri": "https://localhost:8080/"
        }
      },
      "execution_count": 7,
      "outputs": [
        {
          "output_type": "stream",
          "name": "stdout",
          "text": [
            "[(1, 'Eliete', 39, 'Data Analytics'), (2, 'Sheldon', 10, 'Adestramento'), (3, 'Felipe', 24, 'Engenharia'), (4, 'Mariana', 14, 'Jazz'), (5, 'Helena', 69, 'Poesia'), (6, 'Evandro', 38, 'Engenharia'), (7, 'Jurandir', 45, 'Engenharia')]\n"
          ]
        }
      ]
    },
    {
      "cell_type": "code",
      "source": [
        "# b) Selecionar o nome e a idade dos alunos com mais de 20 anos.\n",
        "\n",
        "cursor.execute('SELECT nome, idade FROM alunos WHERE idade > 20;')\n",
        "print(cursor.fetchall())"
      ],
      "metadata": {
        "id": "jkv2Sx26LNPt",
        "outputId": "9323d18c-c82f-4931-bcfa-c12801507946",
        "colab": {
          "base_uri": "https://localhost:8080/"
        }
      },
      "execution_count": 8,
      "outputs": [
        {
          "output_type": "stream",
          "name": "stdout",
          "text": [
            "[('Eliete', 39), ('Felipe', 24), ('Helena', 69), ('Evandro', 38), ('Jurandir', 45)]\n"
          ]
        }
      ]
    },
    {
      "cell_type": "code",
      "source": [
        "# c) Selecionar os alunos do curso de \"Engenharia\" em ordem alfabética.\n",
        "\n",
        "cursor.execute('SELECT * FROM alunos WHERE curso = \"Engenharia\" ORDER BY nome;')\n",
        "print(cursor.fetchall())"
      ],
      "metadata": {
        "id": "ztE3SDmfLNbb",
        "outputId": "e45445fc-2e9c-4385-d136-33143fe1aba2",
        "colab": {
          "base_uri": "https://localhost:8080/"
        }
      },
      "execution_count": 9,
      "outputs": [
        {
          "output_type": "stream",
          "name": "stdout",
          "text": [
            "[(6, 'Evandro', 38, 'Engenharia'), (3, 'Felipe', 24, 'Engenharia'), (7, 'Jurandir', 45, 'Engenharia')]\n"
          ]
        }
      ]
    },
    {
      "cell_type": "code",
      "source": [
        "# d) Contar o número total de alunos na tabela\n",
        "\n",
        "cursor.execute('SELECT COUNT(*) FROM alunos;')\n",
        "print(cursor.fetchall())"
      ],
      "metadata": {
        "id": "tyhb0Hd6LbGD",
        "outputId": "e59dff03-cc4e-4e01-b349-bd590135986d",
        "colab": {
          "base_uri": "https://localhost:8080/"
        }
      },
      "execution_count": 10,
      "outputs": [
        {
          "output_type": "stream",
          "name": "stdout",
          "text": [
            "[(7,)]\n"
          ]
        }
      ]
    },
    {
      "cell_type": "code",
      "source": [
        "# 4. Atualização e Remoção\n",
        "# a) Atualize a idade de um aluno específico na tabela.\n",
        "\n",
        "cursor.execute('UPDATE alunos SET idade = 20 WHERE id = 1;')\n",
        "cursor.execute('SELECT * FROM alunos;')\n",
        "print(cursor.fetchall())"
      ],
      "metadata": {
        "id": "ND-mlcpALc_9",
        "outputId": "f0b04a11-399f-4531-adb5-860d67cfa809",
        "colab": {
          "base_uri": "https://localhost:8080/"
        }
      },
      "execution_count": 11,
      "outputs": [
        {
          "output_type": "stream",
          "name": "stdout",
          "text": [
            "[(1, 'Eliete', 20, 'Data Analytics'), (2, 'Sheldon', 10, 'Adestramento'), (3, 'Felipe', 24, 'Engenharia'), (4, 'Mariana', 14, 'Jazz'), (5, 'Helena', 69, 'Poesia'), (6, 'Evandro', 38, 'Engenharia'), (7, 'Jurandir', 45, 'Engenharia')]\n"
          ]
        }
      ]
    },
    {
      "cell_type": "code",
      "source": [
        "# b) Remova um aluno pelo seu ID.\n",
        "\n",
        "cursor.execute('DELETE FROM alunos WHERE id = 2;')\n",
        "cursor.execute('SELECT * FROM alunos;')\n",
        "print(cursor.fetchall())"
      ],
      "metadata": {
        "id": "Z4sIfQTVLdin",
        "outputId": "11785812-f0f5-4566-d8cf-a9ce433ff912",
        "colab": {
          "base_uri": "https://localhost:8080/"
        }
      },
      "execution_count": 12,
      "outputs": [
        {
          "output_type": "stream",
          "name": "stdout",
          "text": [
            "[(1, 'Eliete', 20, 'Data Analytics'), (3, 'Felipe', 24, 'Engenharia'), (4, 'Mariana', 14, 'Jazz'), (5, 'Helena', 69, 'Poesia'), (6, 'Evandro', 38, 'Engenharia'), (7, 'Jurandir', 45, 'Engenharia')]\n"
          ]
        }
      ]
    },
    {
      "cell_type": "code",
      "source": [
        "# 5. Criar uma Tabela e Inserir Dados\n",
        "# Crie uma tabela chamada \"clientes\" com os campos: id (chave primária), nome (texto), idade (inteiro) e saldo (float).\n",
        "\n",
        "cursor.execute('CREATE TABLE clientes(id INT PRIMARY KEY, nome VARCHAR(100), idade INT, saldo REAL);')"
      ],
      "metadata": {
        "id": "Gt6jRDYGLdq7",
        "outputId": "f8e6cc03-4707-46c1-f13a-f2bf1a566e10",
        "colab": {
          "base_uri": "https://localhost:8080/"
        }
      },
      "execution_count": 13,
      "outputs": [
        {
          "output_type": "execute_result",
          "data": {
            "text/plain": [
              "<sqlite3.Cursor at 0x7bda368554c0>"
            ]
          },
          "metadata": {},
          "execution_count": 13
        }
      ]
    },
    {
      "cell_type": "code",
      "source": [
        "# Insira alguns registros de clientes na tabela.\n",
        "\n",
        "cursor.execute('INSERT INTO clientes(id, nome, idade, saldo) VALUES(1, \"Eliete\", 39, 1100.00)')\n",
        "\n",
        "cursor.execute('INSERT INTO clientes(id, nome, idade, saldo) VALUES(2, \"Sheldon\", 10, 0.00)')\n",
        "\n",
        "cursor.execute('INSERT INTO clientes(id, nome, idade, saldo) VALUES(3, \"Felipe\", 24, 120.00)')"
      ],
      "metadata": {
        "id": "Ibxt_MhgLoPF",
        "outputId": "15aa9057-baba-4a6c-bd54-eb74f03f1371",
        "colab": {
          "base_uri": "https://localhost:8080/"
        }
      },
      "execution_count": 14,
      "outputs": [
        {
          "output_type": "execute_result",
          "data": {
            "text/plain": [
              "<sqlite3.Cursor at 0x7bda368554c0>"
            ]
          },
          "metadata": {},
          "execution_count": 14
        }
      ]
    },
    {
      "cell_type": "code",
      "source": [
        "# 6. Consultas e Funções Agregadas\n",
        "# Escreva consultas SQL para realizar as seguintes tarefas:\n",
        "# a) Selecione o nome e a idade dos clientes com idade superior a 30 anos.\n",
        "cursor.execute('SELECT nome, idade FROM clientes WHERE idade > 30;')\n",
        "print(cursor.fetchall())"
      ],
      "metadata": {
        "id": "5KI8QAS0LsGw",
        "outputId": "0829c5e6-e5c6-4872-ef21-e80ca8f9bb2e",
        "colab": {
          "base_uri": "https://localhost:8080/"
        }
      },
      "execution_count": 15,
      "outputs": [
        {
          "output_type": "stream",
          "name": "stdout",
          "text": [
            "[('Eliete', 39)]\n"
          ]
        }
      ]
    },
    {
      "cell_type": "code",
      "source": [
        "# b) Calcule o saldo médio dos clientes.\n",
        "cursor.execute('SELECT AVG(saldo) FROM clientes;')\n",
        "print(cursor.fetchall())"
      ],
      "metadata": {
        "id": "vZOF17_nMFB3",
        "outputId": "b9c7e6bf-2e97-46bb-8208-9b7c6c002400",
        "colab": {
          "base_uri": "https://localhost:8080/"
        }
      },
      "execution_count": 16,
      "outputs": [
        {
          "output_type": "stream",
          "name": "stdout",
          "text": [
            "[(406.6666666666667,)]\n"
          ]
        }
      ]
    },
    {
      "cell_type": "code",
      "source": [
        "# c) Encontre o cliente com o saldo máximo.\n",
        "cursor.execute('SELECT * FROM clientes WHERE saldo = (SELECT MAX(saldo) FROM clientes);')\n",
        "print(cursor.fetchall())"
      ],
      "metadata": {
        "id": "MkD-McFwMFMB",
        "outputId": "3bbdb3ab-33ca-44a3-fc20-07469d18424b",
        "colab": {
          "base_uri": "https://localhost:8080/"
        }
      },
      "execution_count": 17,
      "outputs": [
        {
          "output_type": "stream",
          "name": "stdout",
          "text": [
            "[(1, 'Eliete', 39, 1100.0)]\n"
          ]
        }
      ]
    },
    {
      "cell_type": "code",
      "source": [
        "# d) Conte quantos clientes têm saldo acima de 1000.\n",
        "cursor.execute('SELECT COUNT(*) FROM clientes WHERE saldo > 1000;')\n",
        "print(cursor.fetchall())"
      ],
      "metadata": {
        "id": "a7upbdJQMFTE",
        "outputId": "11914072-52d3-4217-c1c8-f64624909e3b",
        "colab": {
          "base_uri": "https://localhost:8080/"
        }
      },
      "execution_count": 18,
      "outputs": [
        {
          "output_type": "stream",
          "name": "stdout",
          "text": [
            "[(1,)]\n"
          ]
        }
      ]
    },
    {
      "cell_type": "code",
      "source": [
        "# 7. Atualização e Remoção com Condições\n",
        "# a) Atualize o saldo de um cliente específico.\n",
        "\n",
        "cursor.execute('UPDATE clientes SET saldo = 1500.00 WHERE id = 1;')\n",
        "cursor.execute('SELECT * FROM clientes;')\n",
        "print(cursor.fetchall())"
      ],
      "metadata": {
        "id": "YkJrxv29LyRn",
        "outputId": "755013cf-a098-453b-fa54-186844a358aa",
        "colab": {
          "base_uri": "https://localhost:8080/"
        }
      },
      "execution_count": 19,
      "outputs": [
        {
          "output_type": "stream",
          "name": "stdout",
          "text": [
            "[(1, 'Eliete', 39, 1500.0), (2, 'Sheldon', 10, 0.0), (3, 'Felipe', 24, 120.0)]\n"
          ]
        }
      ]
    },
    {
      "cell_type": "code",
      "source": [
        "# b) Remova um cliente pelo seu ID.\n",
        "\n",
        "cursor.execute('DELETE FROM clientes WHERE id = 2;')\n",
        "cursor.execute('SELECT * FROM clientes;')\n",
        "print(cursor.fetchall())"
      ],
      "metadata": {
        "id": "r4OxjZbgMLtS",
        "outputId": "92591bfc-778b-409c-d254-3b3fe7ce521c",
        "colab": {
          "base_uri": "https://localhost:8080/"
        }
      },
      "execution_count": 20,
      "outputs": [
        {
          "output_type": "stream",
          "name": "stdout",
          "text": [
            "[(1, 'Eliete', 39, 1500.0), (3, 'Felipe', 24, 120.0)]\n"
          ]
        }
      ]
    },
    {
      "cell_type": "code",
      "source": [
        "# 8. Junção de Tabelas\n",
        "# Crie uma segunda tabela chamada \"compras\" com os campos: id (chave primária), cliente_id (chave estrangeira referenciando o id da tabela \"clientes\"), produto (texto) e valor (real).\n",
        "\n",
        "cursor.execute('CREATE TABLE compras(id INT PRIMARY KEY, cliente_id INT, produto VARCHAR(100), valor REAL, FOREIGN KEY (cliente_id) REFERENCES CLIENTES (cliente_id));')"
      ],
      "metadata": {
        "id": "xNW-Wo5fL4FA",
        "outputId": "d1695514-32ce-486a-dea2-2f38e1d23373",
        "colab": {
          "base_uri": "https://localhost:8080/"
        }
      },
      "execution_count": 21,
      "outputs": [
        {
          "output_type": "execute_result",
          "data": {
            "text/plain": [
              "<sqlite3.Cursor at 0x7bda368554c0>"
            ]
          },
          "metadata": {},
          "execution_count": 21
        }
      ]
    },
    {
      "cell_type": "code",
      "source": [
        "# Insira algumas compras associadas a clientes existentes na tabela \"clientes\".\n",
        "\n",
        "cursor.execute('INSERT INTO compras(id, cliente_id, produto, valor) VALUES(1, 1, \"Camiseta\", 500.00)')\n",
        "\n",
        "cursor.execute('INSERT INTO compras(id, cliente_id, produto, valor) VALUES(2, 1, \"Calça\", 800.00)')\n",
        "\n",
        "cursor.execute('INSERT INTO compras(id, cliente_id, produto, valor) VALUES(3, 2, \"Tênis\", 1200.00)')"
      ],
      "metadata": {
        "id": "6KO4AbzeVuoi",
        "outputId": "d208de3f-fb63-4ed0-d6dc-7e2d17dcf9f7",
        "colab": {
          "base_uri": "https://localhost:8080/"
        }
      },
      "execution_count": 22,
      "outputs": [
        {
          "output_type": "execute_result",
          "data": {
            "text/plain": [
              "<sqlite3.Cursor at 0x7bda368554c0>"
            ]
          },
          "metadata": {},
          "execution_count": 22
        }
      ]
    },
    {
      "cell_type": "code",
      "source": [
        "cursor.execute('SELECT * FROM compras;')\n",
        "print(cursor.fetchall())"
      ],
      "metadata": {
        "id": "3lWlb96LWXsy",
        "outputId": "3c585033-d3d6-47a1-b522-1c5279b67583",
        "colab": {
          "base_uri": "https://localhost:8080/"
        }
      },
      "execution_count": 23,
      "outputs": [
        {
          "output_type": "stream",
          "name": "stdout",
          "text": [
            "[(1, 1, 'Camiseta', 500.0), (2, 1, 'Calça', 800.0), (3, 2, 'Tênis', 1200.0)]\n"
          ]
        }
      ]
    },
    {
      "cell_type": "code",
      "source": [
        "# Escreva uma consulta para exibir o nome do cliente, o produto e o valor de cada compra.\n",
        "\n",
        "cursor.execute('SELECT clientes.nome, compras.produto, compras.valor FROM clientes INNER JOIN compras ON clientes.id = compras.cliente_id;')\n",
        "print(cursor.fetchall())"
      ],
      "metadata": {
        "id": "8LnjMLDYV4Wx",
        "outputId": "5c409837-3612-4a61-e1c4-3fccc7507c54",
        "colab": {
          "base_uri": "https://localhost:8080/"
        }
      },
      "execution_count": 24,
      "outputs": [
        {
          "output_type": "stream",
          "name": "stdout",
          "text": [
            "[('Eliete', 'Camiseta', 500.0), ('Eliete', 'Calça', 800.0)]\n"
          ]
        }
      ]
    },
    {
      "cell_type": "code",
      "source": [
        "conexao.commit()\n",
        "conexao.close()"
      ],
      "metadata": {
        "id": "6Bpy9HWWKOtV"
      },
      "execution_count": 25,
      "outputs": []
    }
  ]
}