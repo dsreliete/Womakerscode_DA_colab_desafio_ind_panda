{
  "nbformat": 4,
  "nbformat_minor": 0,
  "metadata": {
    "colab": {
      "provenance": [],
      "authorship_tag": "ABX9TyOgdLKwymlkmTjp3mR292Fc",
      "include_colab_link": true
    },
    "kernelspec": {
      "name": "python3",
      "display_name": "Python 3"
    },
    "language_info": {
      "name": "python"
    }
  },
  "cells": [
    {
      "cell_type": "markdown",
      "metadata": {
        "id": "view-in-github",
        "colab_type": "text"
      },
      "source": [
        "<a href=\"https://colab.research.google.com/github/dsreliete/Womakerscode_DA_colab_desafio_individual/blob/main/Desafio2IndividualElietedaSilvaRodrigues.ipynb\" target=\"_parent\"><img src=\"https://colab.research.google.com/assets/colab-badge.svg\" alt=\"Open In Colab\"/></a>"
      ]
    },
    {
      "cell_type": "code",
      "execution_count": 91,
      "metadata": {
        "id": "V6y9C7SUI-NW",
        "outputId": "b6d267ad-3aaf-4a2c-ca45-7c3d69e2bcb1",
        "colab": {
          "base_uri": "https://localhost:8080/"
        }
      },
      "outputs": [
        {
          "output_type": "stream",
          "name": "stdout",
          "text": [
            "The sql extension is already loaded. To reload it, use:\n",
            "  %reload_ext sql\n"
          ]
        }
      ],
      "source": [
        "%load_ext sql"
      ]
    },
    {
      "cell_type": "code",
      "source": [
        "%%sql\n",
        "sqlite:///desafio.db"
      ],
      "metadata": {
        "id": "Es09aXuWJW9m"
      },
      "execution_count": 92,
      "outputs": []
    },
    {
      "cell_type": "code",
      "source": [
        "import sqlite3"
      ],
      "metadata": {
        "id": "A4L2ruq3Jyw4"
      },
      "execution_count": 93,
      "outputs": []
    },
    {
      "cell_type": "code",
      "source": [
        "conexao = sqlite3.connect('desafio.db')\n",
        "cursor = conexao.cursor()"
      ],
      "metadata": {
        "id": "K20inH_bKAz1"
      },
      "execution_count": 94,
      "outputs": []
    },
    {
      "cell_type": "code",
      "source": [
        "# 1. Crie uma tabela chamada \"alunos\" com os seguintes campos: id (inteiro), nome (texto), idade (inteiro) e curso (texto).\n",
        "\n",
        "cursor.execute('CREATE TABLE alunos(id INT, nome VARCHAR(100), idade INT, curso VARCHAR(200));')"
      ],
      "metadata": {
        "id": "j91xi-0OKMrm",
        "outputId": "e86dbe57-3cf5-4fb3-daf1-a4769796aa67",
        "colab": {
          "base_uri": "https://localhost:8080/",
          "height": 180
        }
      },
      "execution_count": 95,
      "outputs": [
        {
          "output_type": "error",
          "ename": "OperationalError",
          "evalue": "table alunos already exists",
          "traceback": [
            "\u001b[0;31m---------------------------------------------------------------------------\u001b[0m",
            "\u001b[0;31mOperationalError\u001b[0m                          Traceback (most recent call last)",
            "\u001b[0;32m<ipython-input-95-035ebb2289aa>\u001b[0m in \u001b[0;36m<cell line: 3>\u001b[0;34m()\u001b[0m\n\u001b[1;32m      1\u001b[0m \u001b[0;31m# 1. Crie uma tabela chamada \"alunos\" com os seguintes campos: id (inteiro), nome (texto), idade (inteiro) e curso (texto).\u001b[0m\u001b[0;34m\u001b[0m\u001b[0;34m\u001b[0m\u001b[0m\n\u001b[1;32m      2\u001b[0m \u001b[0;34m\u001b[0m\u001b[0m\n\u001b[0;32m----> 3\u001b[0;31m \u001b[0mcursor\u001b[0m\u001b[0;34m.\u001b[0m\u001b[0mexecute\u001b[0m\u001b[0;34m(\u001b[0m\u001b[0;34m'CREATE TABLE alunos(id INT, nome VARCHAR(100), idade INT, curso VARCHAR(200));'\u001b[0m\u001b[0;34m)\u001b[0m\u001b[0;34m\u001b[0m\u001b[0;34m\u001b[0m\u001b[0m\n\u001b[0m",
            "\u001b[0;31mOperationalError\u001b[0m: table alunos already exists"
          ]
        }
      ]
    },
    {
      "cell_type": "code",
      "source": [
        "# 2. Insira pelo menos 5 registros de alunos na tabela que você criou no exercício anterior.\n",
        "\n",
        "cursor.execute('INSERT INTO alunos(id, nome, idade, curso) VALUES(1, \"Eliete\", 39, \"Data Analytics\")')\n",
        "\n",
        "cursor.execute('INSERT INTO alunos(id, nome, idade, curso) VALUES(2, \"Sheldon\", 10, \"Adestramento\")')\n",
        "\n",
        "cursor.execute('INSERT INTO alunos(id, nome, idade, curso) VALUES(3, \"Felipe\", 24, \"Engenharia\")')\n",
        "\n",
        "cursor.execute('INSERT INTO alunos(id, nome, idade, curso) VALUES(4, \"Mariana\", 14, \"Jazz\")')\n",
        "\n",
        "cursor.execute('INSERT INTO alunos(id, nome, idade, curso) VALUES(5, \"Helena\", 69, \"Poesia\")')\n",
        "\n",
        "cursor.execute('INSERT INTO alunos(id, nome, idade, curso) VALUES(6, \"Evandro\", 38, \"Engenharia\")')\n",
        "\n",
        "cursor.execute('INSERT INTO alunos(id, nome, idade, curso) VALUES(7, \"Jurandir\", 45, \"Engenharia\")')"
      ],
      "metadata": {
        "id": "uZK_qwqoNEBp",
        "outputId": "4c19053d-4f78-477f-8628-7fdeac6843f8",
        "colab": {
          "base_uri": "https://localhost:8080/"
        }
      },
      "execution_count": 97,
      "outputs": [
        {
          "output_type": "execute_result",
          "data": {
            "text/plain": [
              "<sqlite3.Cursor at 0x785f3c3929c0>"
            ]
          },
          "metadata": {},
          "execution_count": 97
        }
      ]
    },
    {
      "cell_type": "code",
      "source": [
        "# 3. Consultas Básicas\n",
        "# Escreva consultas SQL para realizar as seguintes tarefas:\n",
        "# a) Selecionar todos os registros da tabela \"alunos\".\n",
        "\n",
        "cursor.execute('SELECT * FROM alunos;')\n",
        "print(cursor.fetchall())"
      ],
      "metadata": {
        "id": "7FzVxssQLNCr",
        "outputId": "7d5af390-1727-4280-e26f-8abea63af37c",
        "colab": {
          "base_uri": "https://localhost:8080/"
        }
      },
      "execution_count": 98,
      "outputs": [
        {
          "output_type": "stream",
          "name": "stdout",
          "text": [
            "[(1, 'Eliete', 20, 'Data Analytics'), (3, 'Felipe', 24, 'Engenharia'), (4, 'Mariana', 14, 'Jazz'), (5, 'Helena', 69, 'Poesia'), (6, 'Evandro', 38, 'Engenharia'), (7, 'Jurandir', 45, 'Engenharia'), (1, 'Eliete', 39, 'Data Analytics'), (2, 'Sheldon', 10, 'Adestramento'), (3, 'Felipe', 24, 'Engenharia'), (4, 'Mariana', 14, 'Jazz'), (5, 'Helena', 69, 'Poesia'), (6, 'Evandro', 38, 'Engenharia'), (7, 'Jurandir', 45, 'Engenharia')]\n"
          ]
        }
      ]
    },
    {
      "cell_type": "code",
      "source": [
        "# b) Selecionar o nome e a idade dos alunos com mais de 20 anos.\n",
        "\n",
        "cursor.execute('SELECT nome, idade FROM alunos WHERE idade > 20;')\n",
        "print(cursor.fetchall())"
      ],
      "metadata": {
        "id": "jkv2Sx26LNPt",
        "outputId": "7b6587c0-5c9e-45c9-deb7-7cce5b969b97",
        "colab": {
          "base_uri": "https://localhost:8080/"
        }
      },
      "execution_count": 99,
      "outputs": [
        {
          "output_type": "stream",
          "name": "stdout",
          "text": [
            "[('Felipe', 24), ('Helena', 69), ('Evandro', 38), ('Jurandir', 45), ('Eliete', 39), ('Felipe', 24), ('Helena', 69), ('Evandro', 38), ('Jurandir', 45)]\n"
          ]
        }
      ]
    },
    {
      "cell_type": "code",
      "source": [
        "# c) Selecionar os alunos do curso de \"Engenharia\" em ordem alfabética.\n",
        "\n",
        "cursor.execute('SELECT * FROM alunos WHERE curso = \"Engenharia\" ORDER BY nome;')\n",
        "print(cursor.fetchall())"
      ],
      "metadata": {
        "id": "ztE3SDmfLNbb",
        "outputId": "f6a2a34d-ce63-4b60-83a4-502a8f7d2f15",
        "colab": {
          "base_uri": "https://localhost:8080/"
        }
      },
      "execution_count": 100,
      "outputs": [
        {
          "output_type": "stream",
          "name": "stdout",
          "text": [
            "[(6, 'Evandro', 38, 'Engenharia'), (6, 'Evandro', 38, 'Engenharia'), (3, 'Felipe', 24, 'Engenharia'), (3, 'Felipe', 24, 'Engenharia'), (7, 'Jurandir', 45, 'Engenharia'), (7, 'Jurandir', 45, 'Engenharia')]\n"
          ]
        }
      ]
    },
    {
      "cell_type": "code",
      "source": [
        "# d) Contar o número total de alunos na tabela\n",
        "\n",
        "cursor.execute('SELECT COUNT(*) FROM alunos;')\n",
        "print(cursor.fetchall())"
      ],
      "metadata": {
        "id": "tyhb0Hd6LbGD",
        "outputId": "6bc55e99-6725-49cc-88a6-6bf4fcedb22f",
        "colab": {
          "base_uri": "https://localhost:8080/"
        }
      },
      "execution_count": 101,
      "outputs": [
        {
          "output_type": "stream",
          "name": "stdout",
          "text": [
            "[(13,)]\n"
          ]
        }
      ]
    },
    {
      "cell_type": "code",
      "source": [
        "# 4. Atualização e Remoção\n",
        "# a) Atualize a idade de um aluno específico na tabela.\n",
        "\n",
        "cursor.execute('UPDATE alunos SET idade = 20 WHERE id = 1;')\n",
        "cursor.execute('SELECT * FROM alunos;')\n",
        "print(cursor.fetchall())"
      ],
      "metadata": {
        "id": "ND-mlcpALc_9",
        "outputId": "db34e844-2ccc-447d-8a8a-c89529138256",
        "colab": {
          "base_uri": "https://localhost:8080/"
        }
      },
      "execution_count": 102,
      "outputs": [
        {
          "output_type": "stream",
          "name": "stdout",
          "text": [
            "[(1, 'Eliete', 20, 'Data Analytics'), (3, 'Felipe', 24, 'Engenharia'), (4, 'Mariana', 14, 'Jazz'), (5, 'Helena', 69, 'Poesia'), (6, 'Evandro', 38, 'Engenharia'), (7, 'Jurandir', 45, 'Engenharia'), (1, 'Eliete', 20, 'Data Analytics'), (2, 'Sheldon', 10, 'Adestramento'), (3, 'Felipe', 24, 'Engenharia'), (4, 'Mariana', 14, 'Jazz'), (5, 'Helena', 69, 'Poesia'), (6, 'Evandro', 38, 'Engenharia'), (7, 'Jurandir', 45, 'Engenharia')]\n"
          ]
        }
      ]
    },
    {
      "cell_type": "code",
      "source": [
        "# b) Remova um aluno pelo seu ID.\n",
        "\n",
        "cursor.execute('DELETE FROM alunos WHERE id = 2;')\n",
        "cursor.execute('SELECT * FROM alunos;')\n",
        "print(cursor.fetchall())"
      ],
      "metadata": {
        "id": "Z4sIfQTVLdin",
        "outputId": "415aa21d-dc7c-4886-89a6-f9b71b1789cf",
        "colab": {
          "base_uri": "https://localhost:8080/"
        }
      },
      "execution_count": 103,
      "outputs": [
        {
          "output_type": "stream",
          "name": "stdout",
          "text": [
            "[(1, 'Eliete', 20, 'Data Analytics'), (3, 'Felipe', 24, 'Engenharia'), (4, 'Mariana', 14, 'Jazz'), (5, 'Helena', 69, 'Poesia'), (6, 'Evandro', 38, 'Engenharia'), (7, 'Jurandir', 45, 'Engenharia'), (1, 'Eliete', 20, 'Data Analytics'), (3, 'Felipe', 24, 'Engenharia'), (4, 'Mariana', 14, 'Jazz'), (5, 'Helena', 69, 'Poesia'), (6, 'Evandro', 38, 'Engenharia'), (7, 'Jurandir', 45, 'Engenharia')]\n"
          ]
        }
      ]
    },
    {
      "cell_type": "code",
      "source": [
        "# 5. Criar uma Tabela e Inserir Dados\n",
        "# Crie uma tabela chamada \"clientes\" com os campos: id (chave primária), nome (texto), idade (inteiro) e saldo (float).\n",
        "\n",
        "cursor.execute('CREATE TABLE clientes(id INT, nome VARCHAR(100), idade INT, saldo REAL);')"
      ],
      "metadata": {
        "id": "Gt6jRDYGLdq7",
        "outputId": "1e307650-1993-4d94-a809-8109f3fb6a9c",
        "colab": {
          "base_uri": "https://localhost:8080/",
          "height": 180
        }
      },
      "execution_count": 104,
      "outputs": [
        {
          "output_type": "error",
          "ename": "OperationalError",
          "evalue": "table clientes already exists",
          "traceback": [
            "\u001b[0;31m---------------------------------------------------------------------------\u001b[0m",
            "\u001b[0;31mOperationalError\u001b[0m                          Traceback (most recent call last)",
            "\u001b[0;32m<ipython-input-104-6626c006c9d6>\u001b[0m in \u001b[0;36m<cell line: 4>\u001b[0;34m()\u001b[0m\n\u001b[1;32m      2\u001b[0m \u001b[0;31m# Crie uma tabela chamada \"clientes\" com os campos: id (chave primária), nome (texto), idade (inteiro) e saldo (float).\u001b[0m\u001b[0;34m\u001b[0m\u001b[0;34m\u001b[0m\u001b[0m\n\u001b[1;32m      3\u001b[0m \u001b[0;34m\u001b[0m\u001b[0m\n\u001b[0;32m----> 4\u001b[0;31m \u001b[0mcursor\u001b[0m\u001b[0;34m.\u001b[0m\u001b[0mexecute\u001b[0m\u001b[0;34m(\u001b[0m\u001b[0;34m'CREATE TABLE clientes(id INT, nome VARCHAR(100), idade INT, saldo REAL);'\u001b[0m\u001b[0;34m)\u001b[0m\u001b[0;34m\u001b[0m\u001b[0;34m\u001b[0m\u001b[0m\n\u001b[0m",
            "\u001b[0;31mOperationalError\u001b[0m: table clientes already exists"
          ]
        }
      ]
    },
    {
      "cell_type": "code",
      "source": [
        "# Insira alguns registros de clientes na tabela.\n",
        "\n",
        "cursor.execute('INSERT INTO clientes(id, nome, idade, saldo) VALUES(1, \"Eliete\", 39, 1100.00)')\n",
        "\n",
        "cursor.execute('INSERT INTO clientes(id, nome, idade, saldo) VALUES(2, \"Sheldon\", 10, 0.00)')\n",
        "\n",
        "cursor.execute('INSERT INTO clientes(id, nome, idade, saldo) VALUES(3, \"Felipe\", 24, 120.00)')"
      ],
      "metadata": {
        "id": "Ibxt_MhgLoPF",
        "outputId": "c6f282c5-0370-4bb9-ba5a-5c0a4c281d8f",
        "colab": {
          "base_uri": "https://localhost:8080/"
        }
      },
      "execution_count": 105,
      "outputs": [
        {
          "output_type": "execute_result",
          "data": {
            "text/plain": [
              "<sqlite3.Cursor at 0x785f3c3929c0>"
            ]
          },
          "metadata": {},
          "execution_count": 105
        }
      ]
    },
    {
      "cell_type": "code",
      "source": [
        "# 6. Consultas e Funções Agregadas\n",
        "# Escreva consultas SQL para realizar as seguintes tarefas:\n",
        "# a) Selecione o nome e a idade dos clientes com idade superior a 30 anos.\n",
        "cursor.execute('SELECT nome, idade FROM clientes WHERE idade > 30;')\n",
        "print(cursor.fetchall())"
      ],
      "metadata": {
        "id": "5KI8QAS0LsGw",
        "outputId": "4f91a348-979a-4783-af73-e77b6270d6c4",
        "colab": {
          "base_uri": "https://localhost:8080/"
        }
      },
      "execution_count": 106,
      "outputs": [
        {
          "output_type": "stream",
          "name": "stdout",
          "text": [
            "[('Eliete', 39), ('Eliete', 39)]\n"
          ]
        }
      ]
    },
    {
      "cell_type": "code",
      "source": [
        "# b) Calcule o saldo médio dos clientes.\n",
        "cursor.execute('SELECT AVG(saldo) FROM clientes;')\n",
        "print(cursor.fetchall())"
      ],
      "metadata": {
        "id": "vZOF17_nMFB3",
        "outputId": "3ab8811e-c1eb-4f3b-edfc-6aa591adf468",
        "colab": {
          "base_uri": "https://localhost:8080/"
        }
      },
      "execution_count": 107,
      "outputs": [
        {
          "output_type": "stream",
          "name": "stdout",
          "text": [
            "[(568.0,)]\n"
          ]
        }
      ]
    },
    {
      "cell_type": "code",
      "source": [
        "# c) Encontre o cliente com o saldo máximo.\n",
        "cursor.execute('SELECT * FROM clientes WHERE saldo = (SELECT MAX(saldo) FROM clientes);')\n",
        "print(cursor.fetchall())"
      ],
      "metadata": {
        "id": "MkD-McFwMFMB",
        "outputId": "be8fa208-dbc8-43d0-c88a-2384edf29fdf",
        "colab": {
          "base_uri": "https://localhost:8080/"
        }
      },
      "execution_count": 108,
      "outputs": [
        {
          "output_type": "stream",
          "name": "stdout",
          "text": [
            "[(1, 'Eliete', 39, 1500.0)]\n"
          ]
        }
      ]
    },
    {
      "cell_type": "code",
      "source": [
        "# d) Conte quantos clientes têm saldo acima de 1000.\n",
        "cursor.execute('SELECT COUNT(*) FROM clientes WHERE saldo > 1000;')\n",
        "print(cursor.fetchall())"
      ],
      "metadata": {
        "id": "a7upbdJQMFTE",
        "outputId": "a24e5613-7205-41e1-b914-77de4a26762f",
        "colab": {
          "base_uri": "https://localhost:8080/"
        }
      },
      "execution_count": 109,
      "outputs": [
        {
          "output_type": "stream",
          "name": "stdout",
          "text": [
            "[(2,)]\n"
          ]
        }
      ]
    },
    {
      "cell_type": "code",
      "source": [
        "# 7. Atualização e Remoção com Condições\n",
        "# a) Atualize o saldo de um cliente específico.\n",
        "\n",
        "cursor.execute('UPDATE clientes SET saldo = 1500.00 WHERE id = 1;')\n",
        "cursor.execute('SELECT * FROM clientes;')\n",
        "print(cursor.fetchall())"
      ],
      "metadata": {
        "id": "YkJrxv29LyRn",
        "outputId": "ded6bc8d-15ad-4a25-c45c-673c8095ce00",
        "colab": {
          "base_uri": "https://localhost:8080/"
        }
      },
      "execution_count": 110,
      "outputs": [
        {
          "output_type": "stream",
          "name": "stdout",
          "text": [
            "[(1, 'Eliete', 39, 1500.0), (3, 'Felipe', 24, 120.0), (1, 'Eliete', 39, 1500.0), (2, 'Sheldon', 10, 0.0), (3, 'Felipe', 24, 120.0)]\n"
          ]
        }
      ]
    },
    {
      "cell_type": "code",
      "source": [
        "# b) Remova um cliente pelo seu ID.\n",
        "\n",
        "cursor.execute('DELETE FROM clientes WHERE id = 2;')\n",
        "cursor.execute('SELECT * FROM clientes;')\n",
        "print(cursor.fetchall())"
      ],
      "metadata": {
        "id": "r4OxjZbgMLtS",
        "outputId": "4b5e3ba3-e7ae-4979-982f-280ba76cfa26",
        "colab": {
          "base_uri": "https://localhost:8080/"
        }
      },
      "execution_count": 111,
      "outputs": [
        {
          "output_type": "stream",
          "name": "stdout",
          "text": [
            "[(1, 'Eliete', 39, 1500.0), (3, 'Felipe', 24, 120.0), (1, 'Eliete', 39, 1500.0), (3, 'Felipe', 24, 120.0)]\n"
          ]
        }
      ]
    },
    {
      "cell_type": "code",
      "source": [
        "# 8. Junção de Tabelas\n",
        "# Crie uma segunda tabela chamada \"compras\" com os campos: id (chave primária), cliente_id (chave estrangeira referenciando o id da tabela \"clientes\"), produto (texto) e valor (real).\n",
        "\n",
        "cursor.execute('CREATE TABLE compras(id INT, cliente_id INT, produto VARCHAR(100), valor REAL);')"
      ],
      "metadata": {
        "id": "xNW-Wo5fL4FA",
        "outputId": "28a00a2a-33d8-4330-b1a0-47a71c096fc2",
        "colab": {
          "base_uri": "https://localhost:8080/",
          "height": 198
        }
      },
      "execution_count": 112,
      "outputs": [
        {
          "output_type": "error",
          "ename": "OperationalError",
          "evalue": "table compras already exists",
          "traceback": [
            "\u001b[0;31m---------------------------------------------------------------------------\u001b[0m",
            "\u001b[0;31mOperationalError\u001b[0m                          Traceback (most recent call last)",
            "\u001b[0;32m<ipython-input-112-3442bf3c8089>\u001b[0m in \u001b[0;36m<cell line: 4>\u001b[0;34m()\u001b[0m\n\u001b[1;32m      2\u001b[0m \u001b[0;31m# Crie uma segunda tabela chamada \"compras\" com os campos: id (chave primária), cliente_id (chave estrangeira referenciando o id da tabela \"clientes\"), produto (texto) e valor (real).\u001b[0m\u001b[0;34m\u001b[0m\u001b[0;34m\u001b[0m\u001b[0m\n\u001b[1;32m      3\u001b[0m \u001b[0;34m\u001b[0m\u001b[0m\n\u001b[0;32m----> 4\u001b[0;31m \u001b[0mcursor\u001b[0m\u001b[0;34m.\u001b[0m\u001b[0mexecute\u001b[0m\u001b[0;34m(\u001b[0m\u001b[0;34m'CREATE TABLE compras(id INT, cliente_id INT, produto VARCHAR(100), valor REAL);'\u001b[0m\u001b[0;34m)\u001b[0m\u001b[0;34m\u001b[0m\u001b[0;34m\u001b[0m\u001b[0m\n\u001b[0m",
            "\u001b[0;31mOperationalError\u001b[0m: table compras already exists"
          ]
        }
      ]
    },
    {
      "cell_type": "code",
      "source": [
        "# Insira algumas compras associadas a clientes existentes na tabela \"clientes\".\n",
        "\n",
        "cursor.execute('INSERT INTO compras(id, cliente_id, produto, valor) VALUES(1, 1, \"Camiseta\", 500.00)')\n",
        "\n",
        "cursor.execute('INSERT INTO compras(id, cliente_id, produto, valor) VALUES(2, 1, \"Calça\", 800.00)')\n",
        "\n",
        "cursor.execute('INSERT INTO compras(id, cliente_id, produto, valor) VALUES(3, 2, \"Tênis\", 1200.00)')"
      ],
      "metadata": {
        "id": "6KO4AbzeVuoi",
        "outputId": "d191f282-617d-418a-84c4-cce72d67095d",
        "colab": {
          "base_uri": "https://localhost:8080/"
        }
      },
      "execution_count": 113,
      "outputs": [
        {
          "output_type": "execute_result",
          "data": {
            "text/plain": [
              "<sqlite3.Cursor at 0x785f3c3929c0>"
            ]
          },
          "metadata": {},
          "execution_count": 113
        }
      ]
    },
    {
      "cell_type": "code",
      "source": [
        "cursor.execute('SELECT * FROM compras;')\n",
        "print(cursor.fetchall())"
      ],
      "metadata": {
        "id": "3lWlb96LWXsy",
        "outputId": "ad5a2dea-9241-492a-fded-6a2a59e33523",
        "colab": {
          "base_uri": "https://localhost:8080/"
        }
      },
      "execution_count": 114,
      "outputs": [
        {
          "output_type": "stream",
          "name": "stdout",
          "text": [
            "[(1, 1, 'Camiseta', 500.0), (2, 1, 'Calça', 800.0), (3, 2, 'Tênis', 1200.0), (1, 1, 'Camiseta', 500.0), (2, 1, 'Calça', 800.0), (3, 2, 'Tênis', 1200.0)]\n"
          ]
        }
      ]
    },
    {
      "cell_type": "code",
      "source": [
        "# Escreva uma consulta para exibir o nome do cliente, o produto e o valor de cada compra.\n",
        "\n",
        "cursor.execute('SELECT clientes.nome, compras.produto, compras.valor FROM clientes INNER JOIN compras ON clientes.id = compras.cliente_id;')\n",
        "print(cursor.fetchall())"
      ],
      "metadata": {
        "id": "8LnjMLDYV4Wx",
        "outputId": "910b089e-fa90-46aa-fe46-1916ac82ecd4",
        "colab": {
          "base_uri": "https://localhost:8080/"
        }
      },
      "execution_count": 115,
      "outputs": [
        {
          "output_type": "stream",
          "name": "stdout",
          "text": [
            "[('Eliete', 'Calça', 800.0), ('Eliete', 'Calça', 800.0), ('Eliete', 'Camiseta', 500.0), ('Eliete', 'Camiseta', 500.0), ('Eliete', 'Calça', 800.0), ('Eliete', 'Calça', 800.0), ('Eliete', 'Camiseta', 500.0), ('Eliete', 'Camiseta', 500.0)]\n"
          ]
        }
      ]
    },
    {
      "cell_type": "code",
      "source": [
        "conexao.commit()\n",
        "conexao.close()"
      ],
      "metadata": {
        "id": "6Bpy9HWWKOtV"
      },
      "execution_count": 88,
      "outputs": []
    }
  ]
}