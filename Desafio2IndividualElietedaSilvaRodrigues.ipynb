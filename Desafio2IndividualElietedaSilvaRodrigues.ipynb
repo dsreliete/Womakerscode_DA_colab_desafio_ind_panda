{
  "nbformat": 4,
  "nbformat_minor": 0,
  "metadata": {
    "colab": {
      "provenance": [],
      "authorship_tag": "ABX9TyOgdLKwymlkmTjp3mR292Fc",
      "include_colab_link": true
    },
    "kernelspec": {
      "name": "python3",
      "display_name": "Python 3"
    },
    "language_info": {
      "name": "python"
    }
  },
  "cells": [
    {
      "cell_type": "markdown",
      "metadata": {
        "id": "view-in-github",
        "colab_type": "text"
      },
      "source": [
        "<a href=\"https://colab.research.google.com/github/dsreliete/Womakerscode_DA_colab_desafio_individual/blob/main/Desafio2IndividualElietedaSilvaRodrigues.ipynb\" target=\"_parent\"><img src=\"https://colab.research.google.com/assets/colab-badge.svg\" alt=\"Open In Colab\"/></a>"
      ]
    },
    {
      "cell_type": "code",
      "execution_count": 116,
      "metadata": {
        "id": "V6y9C7SUI-NW",
        "outputId": "565b9e3b-cf41-425e-ddc3-3b9278497bf4",
        "colab": {
          "base_uri": "https://localhost:8080/"
        }
      },
      "outputs": [
        {
          "output_type": "stream",
          "name": "stdout",
          "text": [
            "The sql extension is already loaded. To reload it, use:\n",
            "  %reload_ext sql\n"
          ]
        }
      ],
      "source": [
        "%load_ext sql"
      ]
    },
    {
      "cell_type": "code",
      "source": [
        "%%sql\n",
        "sqlite:///desafio.db"
      ],
      "metadata": {
        "id": "Es09aXuWJW9m"
      },
      "execution_count": 117,
      "outputs": []
    },
    {
      "cell_type": "code",
      "source": [
        "import sqlite3"
      ],
      "metadata": {
        "id": "A4L2ruq3Jyw4"
      },
      "execution_count": 118,
      "outputs": []
    },
    {
      "cell_type": "code",
      "source": [
        "conexao = sqlite3.connect('desafio.db')\n",
        "cursor = conexao.cursor()"
      ],
      "metadata": {
        "id": "K20inH_bKAz1"
      },
      "execution_count": 119,
      "outputs": []
    },
    {
      "cell_type": "code",
      "source": [
        "# 1. Crie uma tabela chamada \"alunos\" com os seguintes campos: id (inteiro), nome (texto), idade (inteiro) e curso (texto).\n",
        "\n",
        "cursor.execute('CREATE TABLE alunos(id INT, nome VARCHAR(100), idade INT, curso VARCHAR(200));')"
      ],
      "metadata": {
        "id": "j91xi-0OKMrm",
        "outputId": "3f210f90-2fdf-4c77-b05a-79bce929f9d1",
        "colab": {
          "base_uri": "https://localhost:8080/"
        }
      },
      "execution_count": 120,
      "outputs": [
        {
          "output_type": "execute_result",
          "data": {
            "text/plain": [
              "<sqlite3.Cursor at 0x785f3c393140>"
            ]
          },
          "metadata": {},
          "execution_count": 120
        }
      ]
    },
    {
      "cell_type": "code",
      "source": [
        "# 2. Insira pelo menos 5 registros de alunos na tabela que você criou no exercício anterior.\n",
        "\n",
        "cursor.execute('INSERT INTO alunos(id, nome, idade, curso) VALUES(1, \"Eliete\", 39, \"Data Analytics\")')\n",
        "\n",
        "cursor.execute('INSERT INTO alunos(id, nome, idade, curso) VALUES(2, \"Sheldon\", 10, \"Adestramento\")')\n",
        "\n",
        "cursor.execute('INSERT INTO alunos(id, nome, idade, curso) VALUES(3, \"Felipe\", 24, \"Engenharia\")')\n",
        "\n",
        "cursor.execute('INSERT INTO alunos(id, nome, idade, curso) VALUES(4, \"Mariana\", 14, \"Jazz\")')\n",
        "\n",
        "cursor.execute('INSERT INTO alunos(id, nome, idade, curso) VALUES(5, \"Helena\", 69, \"Poesia\")')\n",
        "\n",
        "cursor.execute('INSERT INTO alunos(id, nome, idade, curso) VALUES(6, \"Evandro\", 38, \"Engenharia\")')\n",
        "\n",
        "cursor.execute('INSERT INTO alunos(id, nome, idade, curso) VALUES(7, \"Jurandir\", 45, \"Engenharia\")')"
      ],
      "metadata": {
        "id": "uZK_qwqoNEBp",
        "outputId": "ca860154-83e1-445b-e92a-693c086c2a80",
        "colab": {
          "base_uri": "https://localhost:8080/"
        }
      },
      "execution_count": 121,
      "outputs": [
        {
          "output_type": "execute_result",
          "data": {
            "text/plain": [
              "<sqlite3.Cursor at 0x785f3c393140>"
            ]
          },
          "metadata": {},
          "execution_count": 121
        }
      ]
    },
    {
      "cell_type": "code",
      "source": [
        "# 3. Consultas Básicas\n",
        "# Escreva consultas SQL para realizar as seguintes tarefas:\n",
        "# a) Selecionar todos os registros da tabela \"alunos\".\n",
        "\n",
        "cursor.execute('SELECT * FROM alunos;')\n",
        "print(cursor.fetchall())"
      ],
      "metadata": {
        "id": "7FzVxssQLNCr",
        "outputId": "37348f58-add7-4ea5-db30-4f66b0f38710",
        "colab": {
          "base_uri": "https://localhost:8080/"
        }
      },
      "execution_count": 122,
      "outputs": [
        {
          "output_type": "stream",
          "name": "stdout",
          "text": [
            "[(1, 'Eliete', 39, 'Data Analytics'), (2, 'Sheldon', 10, 'Adestramento'), (3, 'Felipe', 24, 'Engenharia'), (4, 'Mariana', 14, 'Jazz'), (5, 'Helena', 69, 'Poesia'), (6, 'Evandro', 38, 'Engenharia'), (7, 'Jurandir', 45, 'Engenharia')]\n"
          ]
        }
      ]
    },
    {
      "cell_type": "code",
      "source": [
        "# b) Selecionar o nome e a idade dos alunos com mais de 20 anos.\n",
        "\n",
        "cursor.execute('SELECT nome, idade FROM alunos WHERE idade > 20;')\n",
        "print(cursor.fetchall())"
      ],
      "metadata": {
        "id": "jkv2Sx26LNPt",
        "outputId": "515e47e8-f0e8-4c35-b003-2e938bf281f1",
        "colab": {
          "base_uri": "https://localhost:8080/"
        }
      },
      "execution_count": 123,
      "outputs": [
        {
          "output_type": "stream",
          "name": "stdout",
          "text": [
            "[('Eliete', 39), ('Felipe', 24), ('Helena', 69), ('Evandro', 38), ('Jurandir', 45)]\n"
          ]
        }
      ]
    },
    {
      "cell_type": "code",
      "source": [
        "# c) Selecionar os alunos do curso de \"Engenharia\" em ordem alfabética.\n",
        "\n",
        "cursor.execute('SELECT * FROM alunos WHERE curso = \"Engenharia\" ORDER BY nome;')\n",
        "print(cursor.fetchall())"
      ],
      "metadata": {
        "id": "ztE3SDmfLNbb",
        "outputId": "92167ca2-2515-4346-fff2-5f5a12fbea6b",
        "colab": {
          "base_uri": "https://localhost:8080/"
        }
      },
      "execution_count": 124,
      "outputs": [
        {
          "output_type": "stream",
          "name": "stdout",
          "text": [
            "[(6, 'Evandro', 38, 'Engenharia'), (3, 'Felipe', 24, 'Engenharia'), (7, 'Jurandir', 45, 'Engenharia')]\n"
          ]
        }
      ]
    },
    {
      "cell_type": "code",
      "source": [
        "# d) Contar o número total de alunos na tabela\n",
        "\n",
        "cursor.execute('SELECT COUNT(*) FROM alunos;')\n",
        "print(cursor.fetchall())"
      ],
      "metadata": {
        "id": "tyhb0Hd6LbGD",
        "outputId": "8d039eef-985d-4ce2-89b7-18a61afb32c7",
        "colab": {
          "base_uri": "https://localhost:8080/"
        }
      },
      "execution_count": 125,
      "outputs": [
        {
          "output_type": "stream",
          "name": "stdout",
          "text": [
            "[(7,)]\n"
          ]
        }
      ]
    },
    {
      "cell_type": "code",
      "source": [
        "# 4. Atualização e Remoção\n",
        "# a) Atualize a idade de um aluno específico na tabela.\n",
        "\n",
        "cursor.execute('UPDATE alunos SET idade = 20 WHERE id = 1;')\n",
        "cursor.execute('SELECT * FROM alunos;')\n",
        "print(cursor.fetchall())"
      ],
      "metadata": {
        "id": "ND-mlcpALc_9",
        "outputId": "0caf30e4-bf62-4c99-9419-f367b455857f",
        "colab": {
          "base_uri": "https://localhost:8080/"
        }
      },
      "execution_count": 126,
      "outputs": [
        {
          "output_type": "stream",
          "name": "stdout",
          "text": [
            "[(1, 'Eliete', 20, 'Data Analytics'), (2, 'Sheldon', 10, 'Adestramento'), (3, 'Felipe', 24, 'Engenharia'), (4, 'Mariana', 14, 'Jazz'), (5, 'Helena', 69, 'Poesia'), (6, 'Evandro', 38, 'Engenharia'), (7, 'Jurandir', 45, 'Engenharia')]\n"
          ]
        }
      ]
    },
    {
      "cell_type": "code",
      "source": [
        "# b) Remova um aluno pelo seu ID.\n",
        "\n",
        "cursor.execute('DELETE FROM alunos WHERE id = 2;')\n",
        "cursor.execute('SELECT * FROM alunos;')\n",
        "print(cursor.fetchall())"
      ],
      "metadata": {
        "id": "Z4sIfQTVLdin",
        "outputId": "864245e7-ded2-4a01-8832-c7061650fd25",
        "colab": {
          "base_uri": "https://localhost:8080/"
        }
      },
      "execution_count": 127,
      "outputs": [
        {
          "output_type": "stream",
          "name": "stdout",
          "text": [
            "[(1, 'Eliete', 20, 'Data Analytics'), (3, 'Felipe', 24, 'Engenharia'), (4, 'Mariana', 14, 'Jazz'), (5, 'Helena', 69, 'Poesia'), (6, 'Evandro', 38, 'Engenharia'), (7, 'Jurandir', 45, 'Engenharia')]\n"
          ]
        }
      ]
    },
    {
      "cell_type": "code",
      "source": [
        "# 5. Criar uma Tabela e Inserir Dados\n",
        "# Crie uma tabela chamada \"clientes\" com os campos: id (chave primária), nome (texto), idade (inteiro) e saldo (float).\n",
        "\n",
        "cursor.execute('CREATE TABLE clientes(id INT, nome VARCHAR(100), idade INT, saldo REAL);')"
      ],
      "metadata": {
        "id": "Gt6jRDYGLdq7",
        "outputId": "b82174a3-c1b2-4442-ced5-d8f5e64c54f9",
        "colab": {
          "base_uri": "https://localhost:8080/"
        }
      },
      "execution_count": 128,
      "outputs": [
        {
          "output_type": "execute_result",
          "data": {
            "text/plain": [
              "<sqlite3.Cursor at 0x785f3c393140>"
            ]
          },
          "metadata": {},
          "execution_count": 128
        }
      ]
    },
    {
      "cell_type": "code",
      "source": [
        "# Insira alguns registros de clientes na tabela.\n",
        "\n",
        "cursor.execute('INSERT INTO clientes(id, nome, idade, saldo) VALUES(1, \"Eliete\", 39, 1100.00)')\n",
        "\n",
        "cursor.execute('INSERT INTO clientes(id, nome, idade, saldo) VALUES(2, \"Sheldon\", 10, 0.00)')\n",
        "\n",
        "cursor.execute('INSERT INTO clientes(id, nome, idade, saldo) VALUES(3, \"Felipe\", 24, 120.00)')"
      ],
      "metadata": {
        "id": "Ibxt_MhgLoPF",
        "outputId": "a5ffd1a3-8a38-4483-cd7d-f802c32e4ee4",
        "colab": {
          "base_uri": "https://localhost:8080/"
        }
      },
      "execution_count": 129,
      "outputs": [
        {
          "output_type": "execute_result",
          "data": {
            "text/plain": [
              "<sqlite3.Cursor at 0x785f3c393140>"
            ]
          },
          "metadata": {},
          "execution_count": 129
        }
      ]
    },
    {
      "cell_type": "code",
      "source": [
        "# 6. Consultas e Funções Agregadas\n",
        "# Escreva consultas SQL para realizar as seguintes tarefas:\n",
        "# a) Selecione o nome e a idade dos clientes com idade superior a 30 anos.\n",
        "cursor.execute('SELECT nome, idade FROM clientes WHERE idade > 30;')\n",
        "print(cursor.fetchall())"
      ],
      "metadata": {
        "id": "5KI8QAS0LsGw",
        "outputId": "1fa98f17-4f8e-4f0b-bc10-81d0737dc425",
        "colab": {
          "base_uri": "https://localhost:8080/"
        }
      },
      "execution_count": 130,
      "outputs": [
        {
          "output_type": "stream",
          "name": "stdout",
          "text": [
            "[('Eliete', 39)]\n"
          ]
        }
      ]
    },
    {
      "cell_type": "code",
      "source": [
        "# b) Calcule o saldo médio dos clientes.\n",
        "cursor.execute('SELECT AVG(saldo) FROM clientes;')\n",
        "print(cursor.fetchall())"
      ],
      "metadata": {
        "id": "vZOF17_nMFB3",
        "outputId": "d40dd360-f593-4c93-bda8-2aaf6f80462f",
        "colab": {
          "base_uri": "https://localhost:8080/"
        }
      },
      "execution_count": 131,
      "outputs": [
        {
          "output_type": "stream",
          "name": "stdout",
          "text": [
            "[(406.6666666666667,)]\n"
          ]
        }
      ]
    },
    {
      "cell_type": "code",
      "source": [
        "# c) Encontre o cliente com o saldo máximo.\n",
        "cursor.execute('SELECT * FROM clientes WHERE saldo = (SELECT MAX(saldo) FROM clientes);')\n",
        "print(cursor.fetchall())"
      ],
      "metadata": {
        "id": "MkD-McFwMFMB",
        "outputId": "0ff225c4-89bf-4592-a116-e4abd9f9bc88",
        "colab": {
          "base_uri": "https://localhost:8080/"
        }
      },
      "execution_count": 132,
      "outputs": [
        {
          "output_type": "stream",
          "name": "stdout",
          "text": [
            "[(1, 'Eliete', 39, 1100.0)]\n"
          ]
        }
      ]
    },
    {
      "cell_type": "code",
      "source": [
        "# d) Conte quantos clientes têm saldo acima de 1000.\n",
        "cursor.execute('SELECT COUNT(*) FROM clientes WHERE saldo > 1000;')\n",
        "print(cursor.fetchall())"
      ],
      "metadata": {
        "id": "a7upbdJQMFTE",
        "outputId": "cfa638fe-7ffb-4c12-81ff-d2c5390e7171",
        "colab": {
          "base_uri": "https://localhost:8080/"
        }
      },
      "execution_count": 133,
      "outputs": [
        {
          "output_type": "stream",
          "name": "stdout",
          "text": [
            "[(1,)]\n"
          ]
        }
      ]
    },
    {
      "cell_type": "code",
      "source": [
        "# 7. Atualização e Remoção com Condições\n",
        "# a) Atualize o saldo de um cliente específico.\n",
        "\n",
        "cursor.execute('UPDATE clientes SET saldo = 1500.00 WHERE id = 1;')\n",
        "cursor.execute('SELECT * FROM clientes;')\n",
        "print(cursor.fetchall())"
      ],
      "metadata": {
        "id": "YkJrxv29LyRn",
        "outputId": "a00321f2-5928-438e-8436-ee661155c0df",
        "colab": {
          "base_uri": "https://localhost:8080/"
        }
      },
      "execution_count": 134,
      "outputs": [
        {
          "output_type": "stream",
          "name": "stdout",
          "text": [
            "[(1, 'Eliete', 39, 1500.0), (2, 'Sheldon', 10, 0.0), (3, 'Felipe', 24, 120.0)]\n"
          ]
        }
      ]
    },
    {
      "cell_type": "code",
      "source": [
        "# b) Remova um cliente pelo seu ID.\n",
        "\n",
        "cursor.execute('DELETE FROM clientes WHERE id = 2;')\n",
        "cursor.execute('SELECT * FROM clientes;')\n",
        "print(cursor.fetchall())"
      ],
      "metadata": {
        "id": "r4OxjZbgMLtS",
        "outputId": "e4596099-28b9-4a99-da87-776280efd716",
        "colab": {
          "base_uri": "https://localhost:8080/"
        }
      },
      "execution_count": 135,
      "outputs": [
        {
          "output_type": "stream",
          "name": "stdout",
          "text": [
            "[(1, 'Eliete', 39, 1500.0), (3, 'Felipe', 24, 120.0)]\n"
          ]
        }
      ]
    },
    {
      "cell_type": "code",
      "source": [
        "# 8. Junção de Tabelas\n",
        "# Crie uma segunda tabela chamada \"compras\" com os campos: id (chave primária), cliente_id (chave estrangeira referenciando o id da tabela \"clientes\"), produto (texto) e valor (real).\n",
        "\n",
        "cursor.execute('CREATE TABLE compras(id INT, cliente_id INT, produto VARCHAR(100), valor REAL);')"
      ],
      "metadata": {
        "id": "xNW-Wo5fL4FA",
        "outputId": "7250a47c-59c5-418f-8c2a-5b9396fe80a2",
        "colab": {
          "base_uri": "https://localhost:8080/"
        }
      },
      "execution_count": 136,
      "outputs": [
        {
          "output_type": "execute_result",
          "data": {
            "text/plain": [
              "<sqlite3.Cursor at 0x785f3c393140>"
            ]
          },
          "metadata": {},
          "execution_count": 136
        }
      ]
    },
    {
      "cell_type": "code",
      "source": [
        "# Insira algumas compras associadas a clientes existentes na tabela \"clientes\".\n",
        "\n",
        "cursor.execute('INSERT INTO compras(id, cliente_id, produto, valor) VALUES(1, 1, \"Camiseta\", 500.00)')\n",
        "\n",
        "cursor.execute('INSERT INTO compras(id, cliente_id, produto, valor) VALUES(2, 1, \"Calça\", 800.00)')\n",
        "\n",
        "cursor.execute('INSERT INTO compras(id, cliente_id, produto, valor) VALUES(3, 2, \"Tênis\", 1200.00)')"
      ],
      "metadata": {
        "id": "6KO4AbzeVuoi",
        "outputId": "75a080fc-d4b5-4540-db70-ed3a3af2c618",
        "colab": {
          "base_uri": "https://localhost:8080/"
        }
      },
      "execution_count": 137,
      "outputs": [
        {
          "output_type": "execute_result",
          "data": {
            "text/plain": [
              "<sqlite3.Cursor at 0x785f3c393140>"
            ]
          },
          "metadata": {},
          "execution_count": 137
        }
      ]
    },
    {
      "cell_type": "code",
      "source": [
        "cursor.execute('SELECT * FROM compras;')\n",
        "print(cursor.fetchall())"
      ],
      "metadata": {
        "id": "3lWlb96LWXsy",
        "outputId": "269fff98-702f-4f8d-fa34-54a5b27613fc",
        "colab": {
          "base_uri": "https://localhost:8080/"
        }
      },
      "execution_count": 138,
      "outputs": [
        {
          "output_type": "stream",
          "name": "stdout",
          "text": [
            "[(1, 1, 'Camiseta', 500.0), (2, 1, 'Calça', 800.0), (3, 2, 'Tênis', 1200.0)]\n"
          ]
        }
      ]
    },
    {
      "cell_type": "code",
      "source": [
        "# Escreva uma consulta para exibir o nome do cliente, o produto e o valor de cada compra.\n",
        "\n",
        "cursor.execute('SELECT clientes.nome, compras.produto, compras.valor FROM clientes INNER JOIN compras ON clientes.id = compras.cliente_id;')\n",
        "print(cursor.fetchall())"
      ],
      "metadata": {
        "id": "8LnjMLDYV4Wx",
        "outputId": "0a513e61-7249-46c1-fded-def16e2d39f2",
        "colab": {
          "base_uri": "https://localhost:8080/"
        }
      },
      "execution_count": 139,
      "outputs": [
        {
          "output_type": "stream",
          "name": "stdout",
          "text": [
            "[('Eliete', 'Calça', 800.0), ('Eliete', 'Camiseta', 500.0)]\n"
          ]
        }
      ]
    },
    {
      "cell_type": "code",
      "source": [
        "conexao.commit()\n",
        "conexao.close()"
      ],
      "metadata": {
        "id": "6Bpy9HWWKOtV"
      },
      "execution_count": 140,
      "outputs": []
    }
  ]
}