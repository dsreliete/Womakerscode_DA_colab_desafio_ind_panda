{
  "nbformat": 4,
  "nbformat_minor": 0,
  "metadata": {
    "colab": {
      "provenance": [],
      "authorship_tag": "ABX9TyO4LO/53ws9v7JKhc1/ZhFK",
      "include_colab_link": true
    },
    "kernelspec": {
      "name": "python3",
      "display_name": "Python 3"
    },
    "language_info": {
      "name": "python"
    }
  },
  "cells": [
    {
      "cell_type": "markdown",
      "metadata": {
        "id": "view-in-github",
        "colab_type": "text"
      },
      "source": [
        "<a href=\"https://colab.research.google.com/github/dsreliete/Womakerscode_DA_colab_desafio_individual/blob/main/Desafio2IndividualElietedaSilvaRodrigues.ipynb\" target=\"_parent\"><img src=\"https://colab.research.google.com/assets/colab-badge.svg\" alt=\"Open In Colab\"/></a>"
      ]
    },
    {
      "cell_type": "code",
      "execution_count": 1,
      "metadata": {
        "id": "V6y9C7SUI-NW"
      },
      "outputs": [],
      "source": [
        "%load_ext sql"
      ]
    },
    {
      "cell_type": "code",
      "source": [
        "%%sql\n",
        "sqlite:///desafio.db"
      ],
      "metadata": {
        "id": "Es09aXuWJW9m"
      },
      "execution_count": 2,
      "outputs": []
    },
    {
      "cell_type": "code",
      "source": [
        "import sqlite3"
      ],
      "metadata": {
        "id": "A4L2ruq3Jyw4"
      },
      "execution_count": 3,
      "outputs": []
    },
    {
      "cell_type": "code",
      "source": [
        "conexao = sqlite3.connect('desafio.db')\n",
        "cursor = conexao.cursor()"
      ],
      "metadata": {
        "id": "K20inH_bKAz1"
      },
      "execution_count": 4,
      "outputs": []
    },
    {
      "cell_type": "code",
      "source": [
        "# 1. Crie uma tabela chamada \"alunos\" com os seguintes campos: id (inteiro), nome (texto), idade (inteiro) e curso (texto).\n",
        "\n",
        "cursor.execute('CREATE TABLE alunos(id INT, nome VARCHAR(100), idade INT, curso VARCHAR(200));')"
      ],
      "metadata": {
        "colab": {
          "base_uri": "https://localhost:8080/"
        },
        "id": "j91xi-0OKMrm",
        "outputId": "65a4263b-f42b-447e-c53b-250dbefb8902"
      },
      "execution_count": 5,
      "outputs": [
        {
          "output_type": "execute_result",
          "data": {
            "text/plain": [
              "<sqlite3.Cursor at 0x7c2a2fba3c40>"
            ]
          },
          "metadata": {},
          "execution_count": 5
        }
      ]
    },
    {
      "cell_type": "code",
      "source": [
        "# 2. Insira pelo menos 5 registros de alunos na tabela que você criou no exercício anterior."
      ],
      "metadata": {
        "id": "dUIGeA03LMGB"
      },
      "execution_count": null,
      "outputs": []
    },
    {
      "cell_type": "code",
      "source": [
        "# 3. Consultas Básicas\n",
        "# Escreva consultas SQL para realizar as seguintes tarefas:\n",
        "# a) Selecionar todos os registros da tabela \"alunos\".\n"
      ],
      "metadata": {
        "id": "7FzVxssQLNCr"
      },
      "execution_count": null,
      "outputs": []
    },
    {
      "cell_type": "code",
      "source": [
        "# b) Selecionar o nome e a idade dos alunos com mais de 20 anos.\n",
        "\n"
      ],
      "metadata": {
        "id": "jkv2Sx26LNPt"
      },
      "execution_count": null,
      "outputs": []
    },
    {
      "cell_type": "code",
      "source": [
        "# c) Selecionar os alunos do curso de \"Engenharia\" em ordem alfabética.\n"
      ],
      "metadata": {
        "id": "ztE3SDmfLNbb"
      },
      "execution_count": null,
      "outputs": []
    },
    {
      "cell_type": "code",
      "source": [
        "# d) Contar o número total de alunos na tabela"
      ],
      "metadata": {
        "id": "tyhb0Hd6LbGD"
      },
      "execution_count": null,
      "outputs": []
    },
    {
      "cell_type": "code",
      "source": [
        "# 4. Atualização e Remoção\n",
        "# a) Atualize a idade de um aluno específico na tabela."
      ],
      "metadata": {
        "id": "ND-mlcpALc_9"
      },
      "execution_count": null,
      "outputs": []
    },
    {
      "cell_type": "code",
      "source": [
        "# b) Remova um aluno pelo seu ID."
      ],
      "metadata": {
        "id": "Z4sIfQTVLdin"
      },
      "execution_count": null,
      "outputs": []
    },
    {
      "cell_type": "code",
      "source": [
        "# 5. Criar uma Tabela e Inserir Dados\n",
        "# Crie uma tabela chamada \"clientes\" com os campos: id (chave primária), nome (texto), idade (inteiro) e saldo (float)."
      ],
      "metadata": {
        "id": "Gt6jRDYGLdq7"
      },
      "execution_count": null,
      "outputs": []
    },
    {
      "cell_type": "code",
      "source": [
        "# Insira alguns registros de clientes na tabela."
      ],
      "metadata": {
        "id": "Ibxt_MhgLoPF"
      },
      "execution_count": null,
      "outputs": []
    },
    {
      "cell_type": "code",
      "source": [
        "# 6. Consultas e Funções Agregadas\n",
        "# Escreva consultas SQL para realizar as seguintes tarefas:\n",
        "# a) Selecione o nome e a idade dos clientes com idade superior a 30 anos.\n"
      ],
      "metadata": {
        "id": "5KI8QAS0LsGw"
      },
      "execution_count": null,
      "outputs": []
    },
    {
      "cell_type": "code",
      "source": [
        "# b) Calcule o saldo médio dos clientes."
      ],
      "metadata": {
        "id": "vZOF17_nMFB3"
      },
      "execution_count": null,
      "outputs": []
    },
    {
      "cell_type": "code",
      "source": [
        "# c) Encontre o cliente com o saldo máximo."
      ],
      "metadata": {
        "id": "MkD-McFwMFMB"
      },
      "execution_count": null,
      "outputs": []
    },
    {
      "cell_type": "code",
      "source": [
        "# d) Conte quantos clientes têm saldo acima de 1000."
      ],
      "metadata": {
        "id": "a7upbdJQMFTE"
      },
      "execution_count": null,
      "outputs": []
    },
    {
      "cell_type": "code",
      "source": [
        "# 7. Atualização e Remoção com Condições\n",
        "# a) Atualize o saldo de um cliente específico.\n"
      ],
      "metadata": {
        "id": "YkJrxv29LyRn"
      },
      "execution_count": null,
      "outputs": []
    },
    {
      "cell_type": "code",
      "source": [
        "# b) Remova um cliente pelo seu ID."
      ],
      "metadata": {
        "id": "r4OxjZbgMLtS"
      },
      "execution_count": null,
      "outputs": []
    },
    {
      "cell_type": "code",
      "source": [
        "# 8. Junção de Tabelas\n",
        "# Crie uma segunda tabela chamada \"compras\" com os campos: id (chave primária), cliente_id (chave estrangeira referenciando o id da tabela \"clientes\"), produto (texto) e valor (real). Insira algumas compras associadas a clientes existentes na tabela \"clientes\". Escreva uma consulta para exibir o nome do cliente, o produto e o valor de cada compra."
      ],
      "metadata": {
        "id": "xNW-Wo5fL4FA"
      },
      "execution_count": null,
      "outputs": []
    },
    {
      "cell_type": "code",
      "source": [
        "conexao.commit()\n",
        "conexao.close()"
      ],
      "metadata": {
        "id": "6Bpy9HWWKOtV"
      },
      "execution_count": null,
      "outputs": []
    }
  ]
}