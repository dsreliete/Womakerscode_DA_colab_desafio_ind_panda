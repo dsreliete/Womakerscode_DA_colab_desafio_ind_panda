{
  "nbformat": 4,
  "nbformat_minor": 0,
  "metadata": {
    "colab": {
      "provenance": [],
      "authorship_tag": "ABX9TyO4CbEFycAiwloNqYcBeSZi",
      "include_colab_link": true
    },
    "kernelspec": {
      "name": "python3",
      "display_name": "Python 3"
    },
    "language_info": {
      "name": "python"
    }
  },
  "cells": [
    {
      "cell_type": "markdown",
      "metadata": {
        "id": "view-in-github",
        "colab_type": "text"
      },
      "source": [
        "<a href=\"https://colab.research.google.com/github/dsreliete/Womakerscode_DA_colab_desafio_individual/blob/main/Desafio2IndividualElietedaSilvaRodrigues.ipynb\" target=\"_parent\"><img src=\"https://colab.research.google.com/assets/colab-badge.svg\" alt=\"Open In Colab\"/></a>"
      ]
    },
    {
      "cell_type": "code",
      "execution_count": 1,
      "metadata": {
        "id": "V6y9C7SUI-NW"
      },
      "outputs": [],
      "source": [
        "%load_ext sql"
      ]
    },
    {
      "cell_type": "code",
      "source": [
        "%%sql\n",
        "sqlite:///desafio.db"
      ],
      "metadata": {
        "id": "Es09aXuWJW9m"
      },
      "execution_count": 2,
      "outputs": []
    },
    {
      "cell_type": "code",
      "source": [
        "import sqlite3"
      ],
      "metadata": {
        "id": "A4L2ruq3Jyw4"
      },
      "execution_count": 3,
      "outputs": []
    },
    {
      "cell_type": "code",
      "source": [
        "conexao = sqlite3.connect('desafio.db')\n",
        "cursor = conexao.cursor()"
      ],
      "metadata": {
        "id": "K20inH_bKAz1"
      },
      "execution_count": 4,
      "outputs": []
    },
    {
      "cell_type": "code",
      "source": [
        "# 1. Crie uma tabela chamada \"alunos\" com os seguintes campos: id (inteiro), nome (texto), idade (inteiro) e curso (texto).\n",
        "\n",
        "cursor.execute('CREATE TABLE alunos(id INT, nome VARCHAR(100), idade INT, curso VARCHAR(200));')"
      ],
      "metadata": {
        "id": "j91xi-0OKMrm",
        "outputId": "799a097b-07e4-483b-9efb-41c042402113",
        "colab": {
          "base_uri": "https://localhost:8080/"
        }
      },
      "execution_count": 5,
      "outputs": [
        {
          "output_type": "execute_result",
          "data": {
            "text/plain": [
              "<sqlite3.Cursor at 0x7af3ae9a13c0>"
            ]
          },
          "metadata": {},
          "execution_count": 5
        }
      ]
    },
    {
      "cell_type": "code",
      "source": [
        "# 2. Insira pelo menos 5 registros de alunos na tabela que você criou no exercício anterior.\n",
        "\n",
        "cursor.execute('INSERT INTO alunos(id, nome, idade, curso) VALUES(1, \"Eliete\", 39, \"Data Analytics\")')\n",
        "\n",
        "cursor.execute('INSERT INTO alunos(id, nome, idade, curso) VALUES(2, \"Sheldon\", 10, \"Adestramento\")')\n",
        "\n",
        "cursor.execute('INSERT INTO alunos(id, nome, idade, curso) VALUES(3, \"Felipe\", 24, \"Engenharia\")')\n",
        "\n",
        "cursor.execute('INSERT INTO alunos(id, nome, idade, curso) VALUES(4, \"Mariana\", 14, \"Jazz\")')\n",
        "\n",
        "cursor.execute('INSERT INTO alunos(id, nome, idade, curso) VALUES(5, \"Helena\", 69, \"Poesia\")')\n",
        "\n",
        "cursor.execute('INSERT INTO alunos(id, nome, idade, curso) VALUES(6, \"Evandro\", 38, \"Engenharia\")')\n",
        "\n",
        "cursor.execute('INSERT INTO alunos(id, nome, idade, curso) VALUES(7, \"Jurandir\", 45, \"Engenharia\")')"
      ],
      "metadata": {
        "id": "uZK_qwqoNEBp",
        "outputId": "db582e71-33a0-4ecb-c081-ac08ca72dece",
        "colab": {
          "base_uri": "https://localhost:8080/"
        }
      },
      "execution_count": 6,
      "outputs": [
        {
          "output_type": "execute_result",
          "data": {
            "text/plain": [
              "<sqlite3.Cursor at 0x7af3ae9a13c0>"
            ]
          },
          "metadata": {},
          "execution_count": 6
        }
      ]
    },
    {
      "cell_type": "code",
      "source": [
        "# 3. Consultas Básicas\n",
        "# Escreva consultas SQL para realizar as seguintes tarefas:\n",
        "# a) Selecionar todos os registros da tabela \"alunos\".\n",
        "\n",
        "cursor.execute('SELECT * FROM alunos;')\n",
        "print(cursor.fetchall())"
      ],
      "metadata": {
        "id": "7FzVxssQLNCr",
        "outputId": "b61bfad5-387e-4858-e700-a72dede29d2f",
        "colab": {
          "base_uri": "https://localhost:8080/"
        }
      },
      "execution_count": 7,
      "outputs": [
        {
          "output_type": "stream",
          "name": "stdout",
          "text": [
            "[(1, 'Eliete', 39, 'Data Analytics'), (2, 'Sheldon', 10, 'Adestramento'), (3, 'Felipe', 24, 'Engenharia'), (4, 'Mariana', 14, 'Jazz'), (5, 'Helena', 69, 'Poesia'), (6, 'Evandro', 38, 'Engenharia'), (7, 'Jurandir', 45, 'Engenharia')]\n"
          ]
        }
      ]
    },
    {
      "cell_type": "code",
      "source": [
        "# b) Selecionar o nome e a idade dos alunos com mais de 20 anos.\n",
        "\n",
        "cursor.execute('SELECT nome, idade FROM alunos WHERE idade > 20;')\n",
        "print(cursor.fetchall())"
      ],
      "metadata": {
        "id": "jkv2Sx26LNPt",
        "outputId": "179f5be4-afcb-4261-8fad-fb5b43d57a58",
        "colab": {
          "base_uri": "https://localhost:8080/"
        }
      },
      "execution_count": 8,
      "outputs": [
        {
          "output_type": "stream",
          "name": "stdout",
          "text": [
            "[('Eliete', 39), ('Felipe', 24), ('Helena', 69), ('Evandro', 38), ('Jurandir', 45)]\n"
          ]
        }
      ]
    },
    {
      "cell_type": "code",
      "source": [
        "# c) Selecionar os alunos do curso de \"Engenharia\" em ordem alfabética.\n",
        "\n",
        "cursor.execute('SELECT * FROM alunos WHERE curso = \"Engenharia\" ORDER BY nome;')\n",
        "print(cursor.fetchall())"
      ],
      "metadata": {
        "id": "ztE3SDmfLNbb",
        "outputId": "ba7a99a3-a253-409c-de81-360aa17b7b2d",
        "colab": {
          "base_uri": "https://localhost:8080/"
        }
      },
      "execution_count": 9,
      "outputs": [
        {
          "output_type": "stream",
          "name": "stdout",
          "text": [
            "[(6, 'Evandro', 38, 'Engenharia'), (3, 'Felipe', 24, 'Engenharia'), (7, 'Jurandir', 45, 'Engenharia')]\n"
          ]
        }
      ]
    },
    {
      "cell_type": "code",
      "source": [
        "# d) Contar o número total de alunos na tabela\n",
        "\n",
        "cursor.execute('SELECT COUNT(*) FROM alunos;')\n",
        "print(cursor.fetchall())"
      ],
      "metadata": {
        "id": "tyhb0Hd6LbGD",
        "outputId": "141f1b6b-64f2-4839-a988-67d5ab870351",
        "colab": {
          "base_uri": "https://localhost:8080/"
        }
      },
      "execution_count": 10,
      "outputs": [
        {
          "output_type": "stream",
          "name": "stdout",
          "text": [
            "[(7,)]\n"
          ]
        }
      ]
    },
    {
      "cell_type": "code",
      "source": [
        "# 4. Atualização e Remoção\n",
        "# a) Atualize a idade de um aluno específico na tabela.\n",
        "\n",
        "cursor.execute('UPDATE alunos SET idade = 20 WHERE id = 1;')\n",
        "cursor.execute('SELECT * FROM alunos;')\n",
        "print(cursor.fetchall())"
      ],
      "metadata": {
        "id": "ND-mlcpALc_9",
        "outputId": "6c080c33-abe6-47e8-86b3-296c210f6ee1",
        "colab": {
          "base_uri": "https://localhost:8080/"
        }
      },
      "execution_count": 11,
      "outputs": [
        {
          "output_type": "stream",
          "name": "stdout",
          "text": [
            "[(1, 'Eliete', 20, 'Data Analytics'), (2, 'Sheldon', 10, 'Adestramento'), (3, 'Felipe', 24, 'Engenharia'), (4, 'Mariana', 14, 'Jazz'), (5, 'Helena', 69, 'Poesia'), (6, 'Evandro', 38, 'Engenharia'), (7, 'Jurandir', 45, 'Engenharia')]\n"
          ]
        }
      ]
    },
    {
      "cell_type": "code",
      "source": [
        "# b) Remova um aluno pelo seu ID.\n",
        "\n",
        "cursor.execute('DELETE FROM alunos WHERE id = 2;')\n",
        "cursor.execute('SELECT * FROM alunos;')\n",
        "print(cursor.fetchall())"
      ],
      "metadata": {
        "id": "Z4sIfQTVLdin",
        "outputId": "c42f5376-4189-4c1a-dde2-26323d3cc4dc",
        "colab": {
          "base_uri": "https://localhost:8080/"
        }
      },
      "execution_count": 12,
      "outputs": [
        {
          "output_type": "stream",
          "name": "stdout",
          "text": [
            "[(1, 'Eliete', 20, 'Data Analytics'), (3, 'Felipe', 24, 'Engenharia'), (4, 'Mariana', 14, 'Jazz'), (5, 'Helena', 69, 'Poesia'), (6, 'Evandro', 38, 'Engenharia'), (7, 'Jurandir', 45, 'Engenharia')]\n"
          ]
        }
      ]
    },
    {
      "cell_type": "code",
      "source": [
        "# 5. Criar uma Tabela e Inserir Dados\n",
        "# Crie uma tabela chamada \"clientes\" com os campos: id (chave primária), nome (texto), idade (inteiro) e saldo (float).\n",
        "\n",
        "cursor.execute('CREATE TABLE clientes(id INT PRIMARY KEY, nome VARCHAR(100), idade INT, saldo REAL);')"
      ],
      "metadata": {
        "id": "Gt6jRDYGLdq7",
        "outputId": "bd630412-0ebf-4518-9644-76077ba142ce",
        "colab": {
          "base_uri": "https://localhost:8080/"
        }
      },
      "execution_count": 13,
      "outputs": [
        {
          "output_type": "execute_result",
          "data": {
            "text/plain": [
              "<sqlite3.Cursor at 0x7af3ae9a13c0>"
            ]
          },
          "metadata": {},
          "execution_count": 13
        }
      ]
    },
    {
      "cell_type": "code",
      "source": [
        "# Insira alguns registros de clientes na tabela.\n",
        "\n",
        "cursor.execute('INSERT INTO clientes(id, nome, idade, saldo) VALUES(1, \"Eliete\", 39, 1100.00)')\n",
        "\n",
        "cursor.execute('INSERT INTO clientes(id, nome, idade, saldo) VALUES(2, \"Sheldon\", 10, 0.00)')\n",
        "\n",
        "cursor.execute('INSERT INTO clientes(id, nome, idade, saldo) VALUES(3, \"Felipe\", 24, 120.00)')"
      ],
      "metadata": {
        "id": "Ibxt_MhgLoPF",
        "outputId": "84f62e6d-7afa-4b47-cea5-98d666d03bb6",
        "colab": {
          "base_uri": "https://localhost:8080/"
        }
      },
      "execution_count": 14,
      "outputs": [
        {
          "output_type": "execute_result",
          "data": {
            "text/plain": [
              "<sqlite3.Cursor at 0x7af3ae9a13c0>"
            ]
          },
          "metadata": {},
          "execution_count": 14
        }
      ]
    },
    {
      "cell_type": "code",
      "source": [
        "# 6. Consultas e Funções Agregadas\n",
        "# Escreva consultas SQL para realizar as seguintes tarefas:\n",
        "# a) Selecione o nome e a idade dos clientes com idade superior a 30 anos.\n",
        "cursor.execute('SELECT nome, idade FROM clientes WHERE idade > 30;')\n",
        "print(cursor.fetchall())"
      ],
      "metadata": {
        "id": "5KI8QAS0LsGw",
        "outputId": "d3c14591-8011-4156-dede-870d1ce292fd",
        "colab": {
          "base_uri": "https://localhost:8080/"
        }
      },
      "execution_count": 15,
      "outputs": [
        {
          "output_type": "stream",
          "name": "stdout",
          "text": [
            "[('Eliete', 39)]\n"
          ]
        }
      ]
    },
    {
      "cell_type": "code",
      "source": [
        "# b) Calcule o saldo médio dos clientes.\n",
        "cursor.execute('SELECT AVG(saldo) FROM clientes;')\n",
        "print(cursor.fetchall())"
      ],
      "metadata": {
        "id": "vZOF17_nMFB3",
        "outputId": "745d0aa8-a4fa-4c04-d826-2fc35e8e1b79",
        "colab": {
          "base_uri": "https://localhost:8080/"
        }
      },
      "execution_count": 16,
      "outputs": [
        {
          "output_type": "stream",
          "name": "stdout",
          "text": [
            "[(406.6666666666667,)]\n"
          ]
        }
      ]
    },
    {
      "cell_type": "code",
      "source": [
        "# c) Encontre o cliente com o saldo máximo.\n",
        "cursor.execute('SELECT * FROM clientes WHERE saldo = (SELECT MAX(saldo) FROM clientes);')\n",
        "print(cursor.fetchall())"
      ],
      "metadata": {
        "id": "MkD-McFwMFMB",
        "outputId": "044b8453-02c0-401f-945a-c0ed593853ae",
        "colab": {
          "base_uri": "https://localhost:8080/"
        }
      },
      "execution_count": 17,
      "outputs": [
        {
          "output_type": "stream",
          "name": "stdout",
          "text": [
            "[(1, 'Eliete', 39, 1100.0)]\n"
          ]
        }
      ]
    },
    {
      "cell_type": "code",
      "source": [
        "# d) Conte quantos clientes têm saldo acima de 1000.\n",
        "cursor.execute('SELECT COUNT(*) FROM clientes WHERE saldo > 1000;')\n",
        "print(cursor.fetchall())"
      ],
      "metadata": {
        "id": "a7upbdJQMFTE",
        "outputId": "836e81e3-5902-4821-8159-90fbc7822bc8",
        "colab": {
          "base_uri": "https://localhost:8080/"
        }
      },
      "execution_count": 18,
      "outputs": [
        {
          "output_type": "stream",
          "name": "stdout",
          "text": [
            "[(1,)]\n"
          ]
        }
      ]
    },
    {
      "cell_type": "code",
      "source": [
        "# 7. Atualização e Remoção com Condições\n",
        "# a) Atualize o saldo de um cliente específico.\n",
        "\n",
        "cursor.execute('UPDATE clientes SET saldo = 1500.00 WHERE id = 1;')\n",
        "cursor.execute('SELECT * FROM clientes;')\n",
        "print(cursor.fetchall())"
      ],
      "metadata": {
        "id": "YkJrxv29LyRn",
        "outputId": "1b5e9e25-ffa6-48bf-961c-f59c60dffaa2",
        "colab": {
          "base_uri": "https://localhost:8080/"
        }
      },
      "execution_count": 19,
      "outputs": [
        {
          "output_type": "stream",
          "name": "stdout",
          "text": [
            "[(1, 'Eliete', 39, 1500.0), (2, 'Sheldon', 10, 0.0), (3, 'Felipe', 24, 120.0)]\n"
          ]
        }
      ]
    },
    {
      "cell_type": "code",
      "source": [
        "# b) Remova um cliente pelo seu ID.\n",
        "\n",
        "cursor.execute('DELETE FROM clientes WHERE id = 2;')\n",
        "cursor.execute('SELECT * FROM clientes;')\n",
        "print(cursor.fetchall())"
      ],
      "metadata": {
        "id": "r4OxjZbgMLtS",
        "outputId": "db934387-e75f-4e2d-e258-e0762883f42b",
        "colab": {
          "base_uri": "https://localhost:8080/"
        }
      },
      "execution_count": 20,
      "outputs": [
        {
          "output_type": "stream",
          "name": "stdout",
          "text": [
            "[(1, 'Eliete', 39, 1500.0), (3, 'Felipe', 24, 120.0)]\n"
          ]
        }
      ]
    },
    {
      "cell_type": "code",
      "source": [
        "# 8. Junção de Tabelas\n",
        "# Crie uma segunda tabela chamada \"compras\" com os campos: id (chave primária), cliente_id (chave estrangeira referenciando o id da tabela \"clientes\"), produto (texto) e valor (real).\n",
        "\n",
        "cursor.execute('CREATE TABLE compras(id INT PRIMARY KEY, cliente_id INT, produto VARCHAR(100), valor REAL, FOREIGN KEY (cliente_id) REFERENCES CLIENTES (id));')"
      ],
      "metadata": {
        "id": "xNW-Wo5fL4FA",
        "outputId": "f3c28e07-42de-4da2-efec-0e7c0b05a4d4",
        "colab": {
          "base_uri": "https://localhost:8080/"
        }
      },
      "execution_count": 21,
      "outputs": [
        {
          "output_type": "execute_result",
          "data": {
            "text/plain": [
              "<sqlite3.Cursor at 0x7af3ae9a13c0>"
            ]
          },
          "metadata": {},
          "execution_count": 21
        }
      ]
    },
    {
      "cell_type": "code",
      "source": [
        "# Insira algumas compras associadas a clientes existentes na tabela \"clientes\".\n",
        "\n",
        "cursor.execute('INSERT INTO compras(id, cliente_id, produto, valor) VALUES(1, 1, \"Camiseta\", 500.00)')\n",
        "\n",
        "cursor.execute('INSERT INTO compras(id, cliente_id, produto, valor) VALUES(2, 1, \"Calça\", 800.00)')\n",
        "\n",
        "cursor.execute('INSERT INTO compras(id, cliente_id, produto, valor) VALUES(3, 2, \"Tênis\", 1200.00)')"
      ],
      "metadata": {
        "id": "6KO4AbzeVuoi",
        "outputId": "0c231d92-4ecf-4f6a-e759-160d210a026f",
        "colab": {
          "base_uri": "https://localhost:8080/"
        }
      },
      "execution_count": 22,
      "outputs": [
        {
          "output_type": "execute_result",
          "data": {
            "text/plain": [
              "<sqlite3.Cursor at 0x7af3ae9a13c0>"
            ]
          },
          "metadata": {},
          "execution_count": 22
        }
      ]
    },
    {
      "cell_type": "code",
      "source": [
        "cursor.execute('SELECT * FROM compras;')\n",
        "print(cursor.fetchall())"
      ],
      "metadata": {
        "id": "3lWlb96LWXsy",
        "outputId": "404c9e06-7c5d-44a1-9350-c273c6add0d1",
        "colab": {
          "base_uri": "https://localhost:8080/"
        }
      },
      "execution_count": 23,
      "outputs": [
        {
          "output_type": "stream",
          "name": "stdout",
          "text": [
            "[(1, 1, 'Camiseta', 500.0), (2, 1, 'Calça', 800.0), (3, 2, 'Tênis', 1200.0)]\n"
          ]
        }
      ]
    },
    {
      "cell_type": "code",
      "source": [
        "# Escreva uma consulta para exibir o nome do cliente, o produto e o valor de cada compra.\n",
        "\n",
        "cursor.execute('SELECT clientes.nome, compras.produto, compras.valor FROM clientes INNER JOIN compras ON clientes.id = compras.cliente_id;')\n",
        "print(cursor.fetchall())"
      ],
      "metadata": {
        "id": "8LnjMLDYV4Wx",
        "outputId": "7b1851bf-f9a1-462e-a1c4-8bb2c66f8b38",
        "colab": {
          "base_uri": "https://localhost:8080/"
        }
      },
      "execution_count": 24,
      "outputs": [
        {
          "output_type": "stream",
          "name": "stdout",
          "text": [
            "[('Eliete', 'Camiseta', 500.0), ('Eliete', 'Calça', 800.0)]\n"
          ]
        }
      ]
    },
    {
      "cell_type": "code",
      "source": [
        "conexao.commit()\n",
        "conexao.close()"
      ],
      "metadata": {
        "id": "6Bpy9HWWKOtV"
      },
      "execution_count": 25,
      "outputs": []
    }
  ]
}