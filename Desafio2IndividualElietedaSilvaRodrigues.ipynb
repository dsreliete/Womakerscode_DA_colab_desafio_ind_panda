{
  "nbformat": 4,
  "nbformat_minor": 0,
  "metadata": {
    "colab": {
      "provenance": [],
      "authorship_tag": "ABX9TyNsWfs79kWYl/fTJGb+6wq/",
      "include_colab_link": true
    },
    "kernelspec": {
      "name": "python3",
      "display_name": "Python 3"
    },
    "language_info": {
      "name": "python"
    }
  },
  "cells": [
    {
      "cell_type": "markdown",
      "metadata": {
        "id": "view-in-github",
        "colab_type": "text"
      },
      "source": [
        "<a href=\"https://colab.research.google.com/github/dsreliete/Womakerscode_DA_colab_desafio_individual/blob/main/Desafio2IndividualElietedaSilvaRodrigues.ipynb\" target=\"_parent\"><img src=\"https://colab.research.google.com/assets/colab-badge.svg\" alt=\"Open In Colab\"/></a>"
      ]
    },
    {
      "cell_type": "code",
      "execution_count": 39,
      "metadata": {
        "id": "V6y9C7SUI-NW",
        "outputId": "794fa9d3-a973-43b4-ea27-f302f7d22171",
        "colab": {
          "base_uri": "https://localhost:8080/"
        }
      },
      "outputs": [
        {
          "output_type": "stream",
          "name": "stdout",
          "text": [
            "The sql extension is already loaded. To reload it, use:\n",
            "  %reload_ext sql\n"
          ]
        }
      ],
      "source": [
        "%load_ext sql"
      ]
    },
    {
      "cell_type": "code",
      "source": [
        "%%sql\n",
        "sqlite:///desafio.db"
      ],
      "metadata": {
        "id": "Es09aXuWJW9m"
      },
      "execution_count": 40,
      "outputs": []
    },
    {
      "cell_type": "code",
      "source": [
        "import sqlite3"
      ],
      "metadata": {
        "id": "A4L2ruq3Jyw4"
      },
      "execution_count": 41,
      "outputs": []
    },
    {
      "cell_type": "code",
      "source": [
        "conexao = sqlite3.connect('desafio.db')\n",
        "cursor = conexao.cursor()"
      ],
      "metadata": {
        "id": "K20inH_bKAz1"
      },
      "execution_count": 42,
      "outputs": []
    },
    {
      "cell_type": "code",
      "source": [
        "# 1. Crie uma tabela chamada \"alunos\" com os seguintes campos: id (inteiro), nome (texto), idade (inteiro) e curso (texto).\n",
        "\n",
        "cursor.execute('CREATE TABLE alunos(id INT, nome VARCHAR(100), idade INT, curso VARCHAR(200));')"
      ],
      "metadata": {
        "id": "j91xi-0OKMrm"
      },
      "execution_count": null,
      "outputs": []
    },
    {
      "cell_type": "code",
      "source": [
        "# 2. Insira pelo menos 5 registros de alunos na tabela que você criou no exercício anterior."
      ],
      "metadata": {
        "id": "dUIGeA03LMGB"
      },
      "execution_count": 21,
      "outputs": []
    },
    {
      "cell_type": "code",
      "source": [
        "cursor.execute('INSERT INTO alunos(id, nome, idade, curso) VALUES(1, \"Eliete\", 39, \"Data Analytics\")')\n",
        "\n",
        "cursor.execute('INSERT INTO alunos(id, nome, idade, curso) VALUES(2, \"Sheldon\", 10, \"Adestramento\")')\n",
        "\n",
        "cursor.execute('INSERT INTO alunos(id, nome, idade, curso) VALUES(3, \"Felipe\", 24, \"Engenharia\")')\n",
        "\n",
        "cursor.execute('INSERT INTO alunos(id, nome, idade, curso) VALUES(4, \"Mariana\", 14, \"Jazz\")')\n",
        "\n",
        "cursor.execute('INSERT INTO alunos(id, nome, idade, curso) VALUES(5, \"Helena\", 69, \"Poesia\")')\n",
        "\n",
        "cursor.execute('INSERT INTO alunos(id, nome, idade, curso) VALUES(6, \"Evandro\", 38, \"Engenharia\")')\n",
        "\n",
        "cursor.execute('INSERT INTO alunos(id, nome, idade, curso) VALUES(7, \"Jurandir\", 45, \"Engenharia\")')"
      ],
      "metadata": {
        "id": "uZK_qwqoNEBp",
        "outputId": "44b90363-9b8d-4101-f041-26e751eb3ce9",
        "colab": {
          "base_uri": "https://localhost:8080/"
        }
      },
      "execution_count": 22,
      "outputs": [
        {
          "output_type": "execute_result",
          "data": {
            "text/plain": [
              "<sqlite3.Cursor at 0x785f3ce18540>"
            ]
          },
          "metadata": {},
          "execution_count": 22
        }
      ]
    },
    {
      "cell_type": "code",
      "source": [
        "# 3. Consultas Básicas\n",
        "# Escreva consultas SQL para realizar as seguintes tarefas:\n",
        "# a) Selecionar todos os registros da tabela \"alunos\".\n",
        "\n",
        "cursor.execute('SELECT * FROM alunos;')\n",
        "print(cursor.fetchall())"
      ],
      "metadata": {
        "id": "7FzVxssQLNCr",
        "outputId": "07b33741-7ad3-481c-dbb6-62ae7efc420f",
        "colab": {
          "base_uri": "https://localhost:8080/"
        }
      },
      "execution_count": 23,
      "outputs": [
        {
          "output_type": "stream",
          "name": "stdout",
          "text": [
            "[(1, 'Eliete', 39, 'Data Analytics'), (2, 'Sheldon', 10, 'Adestramento'), (3, 'Felipe', 24, 'Engenharia'), (4, 'Mariana', 14, 'Jazz'), (5, 'Helena', 69, 'Poesia'), (6, 'Evandro', 38, 'Engenharia'), (7, 'Jurandir', 45, 'Engenharia')]\n"
          ]
        }
      ]
    },
    {
      "cell_type": "code",
      "source": [
        "# b) Selecionar o nome e a idade dos alunos com mais de 20 anos.\n",
        "\n",
        "cursor.execute('SELECT nome, idade FROM alunos WHERE idade > 20;')\n",
        "print(cursor.fetchall())"
      ],
      "metadata": {
        "id": "jkv2Sx26LNPt",
        "outputId": "3aa42477-8aa2-4b5c-8027-9542094c06e5",
        "colab": {
          "base_uri": "https://localhost:8080/"
        }
      },
      "execution_count": 24,
      "outputs": [
        {
          "output_type": "stream",
          "name": "stdout",
          "text": [
            "[('Eliete', 39), ('Felipe', 24), ('Helena', 69), ('Evandro', 38), ('Jurandir', 45)]\n"
          ]
        }
      ]
    },
    {
      "cell_type": "code",
      "source": [
        "# c) Selecionar os alunos do curso de \"Engenharia\" em ordem alfabética.\n",
        "\n",
        "cursor.execute('SELECT * FROM alunos WHERE curso = \"Engenharia\" ORDER BY nome;')\n",
        "print(cursor.fetchall())"
      ],
      "metadata": {
        "id": "ztE3SDmfLNbb",
        "outputId": "7aa53599-d6a1-466e-f13b-33c32553ddc4",
        "colab": {
          "base_uri": "https://localhost:8080/"
        }
      },
      "execution_count": 44,
      "outputs": [
        {
          "output_type": "stream",
          "name": "stdout",
          "text": [
            "[(6, 'Evandro', 38, 'Engenharia'), (3, 'Felipe', 24, 'Engenharia'), (7, 'Jurandir', 45, 'Engenharia')]\n"
          ]
        }
      ]
    },
    {
      "cell_type": "code",
      "source": [
        "# d) Contar o número total de alunos na tabela\n",
        "\n",
        "cursor.execute('SELECT COUNT(*) FROM alunos;')\n",
        "print(cursor.fetchall())"
      ],
      "metadata": {
        "id": "tyhb0Hd6LbGD",
        "outputId": "c0b4819d-dbb4-4cb0-fff6-52741d961a92",
        "colab": {
          "base_uri": "https://localhost:8080/"
        }
      },
      "execution_count": 45,
      "outputs": [
        {
          "output_type": "stream",
          "name": "stdout",
          "text": [
            "[(7,)]\n"
          ]
        }
      ]
    },
    {
      "cell_type": "code",
      "source": [
        "# 4. Atualização e Remoção\n",
        "# a) Atualize a idade de um aluno específico na tabela.\n",
        "\n",
        "cursor.execute('UPDATE alunos SET idade = 20 WHERE id = 1;')\n",
        "cursor.execute('SELECT * FROM alunos;')\n",
        "print(cursor.fetchall())"
      ],
      "metadata": {
        "id": "ND-mlcpALc_9",
        "outputId": "1d7b9fd3-2677-4d22-aae3-92555a2184cd",
        "colab": {
          "base_uri": "https://localhost:8080/"
        }
      },
      "execution_count": 46,
      "outputs": [
        {
          "output_type": "stream",
          "name": "stdout",
          "text": [
            "[(1, 'Eliete', 20, 'Data Analytics'), (2, 'Sheldon', 10, 'Adestramento'), (3, 'Felipe', 24, 'Engenharia'), (4, 'Mariana', 14, 'Jazz'), (5, 'Helena', 69, 'Poesia'), (6, 'Evandro', 38, 'Engenharia'), (7, 'Jurandir', 45, 'Engenharia')]\n"
          ]
        }
      ]
    },
    {
      "cell_type": "code",
      "source": [
        "# b) Remova um aluno pelo seu ID.\n",
        "\n",
        "cursor.execute('DELETE FROM alunos WHERE id = 2;')\n",
        "cursor.execute('SELECT * FROM alunos;')\n",
        "print(cursor.fetchall())"
      ],
      "metadata": {
        "id": "Z4sIfQTVLdin",
        "outputId": "ed8b67e6-5091-4356-e632-e27a62da0dcf",
        "colab": {
          "base_uri": "https://localhost:8080/"
        }
      },
      "execution_count": 47,
      "outputs": [
        {
          "output_type": "stream",
          "name": "stdout",
          "text": [
            "[(1, 'Eliete', 20, 'Data Analytics'), (3, 'Felipe', 24, 'Engenharia'), (4, 'Mariana', 14, 'Jazz'), (5, 'Helena', 69, 'Poesia'), (6, 'Evandro', 38, 'Engenharia'), (7, 'Jurandir', 45, 'Engenharia')]\n"
          ]
        }
      ]
    },
    {
      "cell_type": "code",
      "source": [
        "# 5. Criar uma Tabela e Inserir Dados\n",
        "# Crie uma tabela chamada \"clientes\" com os campos: id (chave primária), nome (texto), idade (inteiro) e saldo (float).\n",
        "\n",
        "cursor.execute('CREATE TABLE clientes(id INT, nome VARCHAR(100), idade INT, saldo REAL);')"
      ],
      "metadata": {
        "id": "Gt6jRDYGLdq7",
        "outputId": "b220b617-1d92-4788-f040-cf204916aade",
        "colab": {
          "base_uri": "https://localhost:8080/"
        }
      },
      "execution_count": 48,
      "outputs": [
        {
          "output_type": "execute_result",
          "data": {
            "text/plain": [
              "<sqlite3.Cursor at 0x785f3ce182c0>"
            ]
          },
          "metadata": {},
          "execution_count": 48
        }
      ]
    },
    {
      "cell_type": "code",
      "source": [
        "# Insira alguns registros de clientes na tabela.\n",
        "\n",
        "cursor.execute('INSERT INTO clientes(id, nome, idade, saldo) VALUES(1, \"Eliete\", 39, 1100.00)')\n",
        "\n",
        "cursor.execute('INSERT INTO clientes(id, nome, idade, saldo) VALUES(2, \"Sheldon\", 10, 0.00)')\n",
        "\n",
        "cursor.execute('INSERT INTO clientes(id, nome, idade, saldo) VALUES(3, \"Felipe\", 24, 120.00)')"
      ],
      "metadata": {
        "id": "Ibxt_MhgLoPF",
        "outputId": "a005068e-086a-42f4-ccd6-b029b26baee2",
        "colab": {
          "base_uri": "https://localhost:8080/"
        }
      },
      "execution_count": 50,
      "outputs": [
        {
          "output_type": "execute_result",
          "data": {
            "text/plain": [
              "<sqlite3.Cursor at 0x785f3ce182c0>"
            ]
          },
          "metadata": {},
          "execution_count": 50
        }
      ]
    },
    {
      "cell_type": "code",
      "source": [
        "# 6. Consultas e Funções Agregadas\n",
        "# Escreva consultas SQL para realizar as seguintes tarefas:\n",
        "# a) Selecione o nome e a idade dos clientes com idade superior a 30 anos.\n",
        "cursor.execute('SELECT nome, idade FROM clientes WHERE idade > 30;')\n",
        "print(cursor.fetchall())"
      ],
      "metadata": {
        "id": "5KI8QAS0LsGw",
        "outputId": "cfb32d38-ac33-45be-b2a2-bd227368eca4",
        "colab": {
          "base_uri": "https://localhost:8080/"
        }
      },
      "execution_count": 53,
      "outputs": [
        {
          "output_type": "stream",
          "name": "stdout",
          "text": [
            "[('Eliete', 39)]\n"
          ]
        }
      ]
    },
    {
      "cell_type": "code",
      "source": [
        "# b) Calcule o saldo médio dos clientes.\n",
        "cursor.execute('SELECT AVG(saldo) FROM clientes;')\n",
        "print(cursor.fetchall())"
      ],
      "metadata": {
        "id": "vZOF17_nMFB3",
        "outputId": "12b3a2b6-ad12-4295-f301-aebcfc52a298",
        "colab": {
          "base_uri": "https://localhost:8080/"
        }
      },
      "execution_count": 54,
      "outputs": [
        {
          "output_type": "stream",
          "name": "stdout",
          "text": [
            "[(337.3333333333333,)]\n"
          ]
        }
      ]
    },
    {
      "cell_type": "code",
      "source": [
        "# c) Encontre o cliente com o saldo máximo.\n",
        "cursor.execute('SELECT * FROM clientes WHERE saldo = (SELECT MAX(saldo) FROM clientes);')\n",
        "print(cursor.fetchall())"
      ],
      "metadata": {
        "id": "MkD-McFwMFMB",
        "outputId": "591fd53e-93c4-4455-b40e-80f21f783387",
        "colab": {
          "base_uri": "https://localhost:8080/"
        }
      },
      "execution_count": 55,
      "outputs": [
        {
          "output_type": "stream",
          "name": "stdout",
          "text": [
            "[(1, 'Eliete', 39, 1000.0)]\n"
          ]
        }
      ]
    },
    {
      "cell_type": "code",
      "source": [
        "# d) Conte quantos clientes têm saldo acima de 1000.\n",
        "cursor.execute('SELECT COUNT(*) FROM clientes WHERE saldo > 1000;')\n",
        "print(cursor.fetchall())"
      ],
      "metadata": {
        "id": "a7upbdJQMFTE",
        "outputId": "fa755013-44bd-4a42-ced8-014fc8dacab3",
        "colab": {
          "base_uri": "https://localhost:8080/"
        }
      },
      "execution_count": 56,
      "outputs": [
        {
          "output_type": "stream",
          "name": "stdout",
          "text": [
            "[(0,)]\n"
          ]
        }
      ]
    },
    {
      "cell_type": "code",
      "source": [
        "# 7. Atualização e Remoção com Condições\n",
        "# a) Atualize o saldo de um cliente específico.\n",
        "\n",
        "cursor.execute('UPDATE clientes SET saldo = 1500.00 WHERE id = 1;')\n",
        "cursor.execute('SELECT * FROM clientes;')\n",
        "print(cursor.fetchall())"
      ],
      "metadata": {
        "id": "YkJrxv29LyRn",
        "outputId": "de311328-7d72-4af5-851d-0075c8050be9",
        "colab": {
          "base_uri": "https://localhost:8080/"
        }
      },
      "execution_count": 57,
      "outputs": [
        {
          "output_type": "stream",
          "name": "stdout",
          "text": [
            "[(1, 'Eliete', 39, 1500.0), (2, 'Sheldon', 10, 0.0), (3, 'Felipe', 24, 12.0)]\n"
          ]
        }
      ]
    },
    {
      "cell_type": "code",
      "source": [
        "# b) Remova um cliente pelo seu ID.\n",
        "\n",
        "cursor.execute('DELETE FROM clientes WHERE id = 2;')\n",
        "cursor.execute('SELECT * FROM clientes;')\n",
        "print(cursor.fetchall())"
      ],
      "metadata": {
        "id": "r4OxjZbgMLtS",
        "outputId": "869a92ca-5f33-4f4f-d768-545534fc097c",
        "colab": {
          "base_uri": "https://localhost:8080/"
        }
      },
      "execution_count": 58,
      "outputs": [
        {
          "output_type": "stream",
          "name": "stdout",
          "text": [
            "[(1, 'Eliete', 39, 1500.0), (3, 'Felipe', 24, 12.0)]\n"
          ]
        }
      ]
    },
    {
      "cell_type": "code",
      "source": [
        "# 8. Junção de Tabelas\n",
        "# Crie uma segunda tabela chamada \"compras\" com os campos: id (chave primária), cliente_id (chave estrangeira referenciando o id da tabela \"clientes\"), produto (texto) e valor (real).\n",
        "\n",
        "cursor.execute('CREATE TABLE compras(id INT, cliente_id INT, produto VARCHAR(100), valor REAL);')"
      ],
      "metadata": {
        "id": "xNW-Wo5fL4FA",
        "outputId": "414c3303-a5f0-4ab6-8143-676d81b170df",
        "colab": {
          "base_uri": "https://localhost:8080/"
        }
      },
      "execution_count": 59,
      "outputs": [
        {
          "output_type": "execute_result",
          "data": {
            "text/plain": [
              "<sqlite3.Cursor at 0x785f3ce182c0>"
            ]
          },
          "metadata": {},
          "execution_count": 59
        }
      ]
    },
    {
      "cell_type": "code",
      "source": [
        "# Insira algumas compras associadas a clientes existentes na tabela \"clientes\".\n",
        "\n",
        "cursor.execute('INSERT INTO compras(id, cliente_id, produto, valor) VALUES(1, 1, \"Camiseta\", 500.00)')\n",
        "\n",
        "cursor.execute('INSERT INTO compras(id, cliente_id, produto, valor) VALUES(2, 1, \"Calça\", 800.00)')\n",
        "\n",
        "cursor.execute('INSERT INTO compras(id, cliente_id, produto, valor) VALUES(3, 2, \"Tênis\", 1200.00)')"
      ],
      "metadata": {
        "id": "6KO4AbzeVuoi",
        "outputId": "25ca6ed5-f053-4a42-b88e-f6ecd52e0f68",
        "colab": {
          "base_uri": "https://localhost:8080/"
        }
      },
      "execution_count": 60,
      "outputs": [
        {
          "output_type": "execute_result",
          "data": {
            "text/plain": [
              "<sqlite3.Cursor at 0x785f3ce182c0>"
            ]
          },
          "metadata": {},
          "execution_count": 60
        }
      ]
    },
    {
      "cell_type": "code",
      "source": [
        "cursor.execute('SELECT * FROM compras;')\n",
        "print(cursor.fetchall())"
      ],
      "metadata": {
        "id": "3lWlb96LWXsy",
        "outputId": "341214a2-c75d-40f8-813b-98b92ed5a907",
        "colab": {
          "base_uri": "https://localhost:8080/"
        }
      },
      "execution_count": 62,
      "outputs": [
        {
          "output_type": "stream",
          "name": "stdout",
          "text": [
            "[(1, 1, 'Camiseta', 500.0), (2, 1, 'Calça', 800.0), (3, 2, 'Tênis', 1200.0)]\n"
          ]
        }
      ]
    },
    {
      "cell_type": "code",
      "source": [
        "# Escreva uma consulta para exibir o nome do cliente, o produto e o valor de cada compra.\n",
        "\n"
      ],
      "metadata": {
        "id": "8LnjMLDYV4Wx"
      },
      "execution_count": null,
      "outputs": []
    },
    {
      "cell_type": "code",
      "source": [
        "conexao.commit()\n",
        "conexao.close()"
      ],
      "metadata": {
        "id": "6Bpy9HWWKOtV"
      },
      "execution_count": 38,
      "outputs": []
    }
  ]
}