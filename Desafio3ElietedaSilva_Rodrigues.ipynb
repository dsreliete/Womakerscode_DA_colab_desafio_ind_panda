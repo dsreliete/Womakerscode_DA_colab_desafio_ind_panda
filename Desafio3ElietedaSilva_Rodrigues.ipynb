{
  "nbformat": 4,
  "nbformat_minor": 0,
  "metadata": {
    "colab": {
      "provenance": [],
      "authorship_tag": "ABX9TyMB0AOXBiOfe3EsQ/fWaS+g",
      "include_colab_link": true
    },
    "kernelspec": {
      "name": "python3",
      "display_name": "Python 3"
    },
    "language_info": {
      "name": "python"
    }
  },
  "cells": [
    {
      "cell_type": "markdown",
      "metadata": {
        "id": "view-in-github",
        "colab_type": "text"
      },
      "source": [
        "<a href=\"https://colab.research.google.com/github/dsreliete/Womakerscode_DA_colab_desafio_individual/blob/main/Desafio3ElietedaSilva_Rodrigues.ipynb\" target=\"_parent\"><img src=\"https://colab.research.google.com/assets/colab-badge.svg\" alt=\"Open In Colab\"/></a>"
      ]
    },
    {
      "cell_type": "code",
      "execution_count": null,
      "metadata": {
        "id": "xu7hbyHQRz8I"
      },
      "outputs": [],
      "source": [
        "### bibliotecas base\n",
        "import pandas as pd\n",
        "import numpy as np\n",
        "### bibliotecas para visualizacao de dados\n",
        "import seaborn as sns\n",
        "import matplotlib.pyplot as plt\n",
        "### bibliotecas para estatística\n",
        "import scipy.stats as stat"
      ]
    },
    {
      "cell_type": "code",
      "source": [
        "!pip install pydataset --quiet ## instala a biblioteca\n",
        "from pydataset import data"
      ],
      "metadata": {
        "id": "M3RCAzncR9b-"
      },
      "execution_count": null,
      "outputs": []
    }
  ]
}